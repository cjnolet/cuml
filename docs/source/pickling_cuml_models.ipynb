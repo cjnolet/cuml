{
 "cells": [
  {
   "cell_type": "markdown",
   "metadata": {},
   "source": [
    "# Pickling cuML Models for Persistence\n",
    "\n",
    "This notebook demonstrates simple pickling of both single-GPU and multi-GPU cuML models for persistence"
   ]
  },
  {
   "cell_type": "code",
   "execution_count": null,
   "metadata": {},
   "outputs": [],
   "source": [
    "import warnings\n",
    "warnings.filterwarnings(\"ignore\", category=FutureWarning)"
   ]
  },
  {
   "cell_type": "markdown",
   "metadata": {},
   "source": [
    "## Single GPU Model Pickling\n",
    "\n",
    "All single-GPU estimators are pickleable. The following example demonstrates the creation of a synthetic dataset, training, and pickling of the resulting model for storage. Trained single-GPU models can also be used to distribute the inference on a Dask cluster, which the `Distributed Model Pickling` section below demonstrates."
   ]
  },
  {
   "cell_type": "code",
   "execution_count": 2,
   "metadata": {},
   "outputs": [],
   "source": [
    "from cuml.datasets import make_blobs\n",
    "\n",
    "X, y = make_blobs(n_samples=50, \n",
    "                  n_features=10, \n",
    "                  centers=5, \n",
    "                  cluster_std=0.4, \n",
    "                  random_state=0)"
   ]
  },
  {
   "cell_type": "code",
   "execution_count": 3,
   "metadata": {},
   "outputs": [
    {
     "data": {
      "text/plain": [
       "KMeans(handle=<cuml.raft.common.handle.Handle object at 0x7f96ccdc9bf0>, n_clusters=5, max_iter=300, tol=0.0001, verbose=4, random_state=1, init='scalable-k-means++', n_init=1, oversampling_factor=2.0, max_samples_per_batch=32768, output_type='input')"
      ]
     },
     "execution_count": 3,
     "metadata": {},
     "output_type": "execute_result"
    }
   ],
   "source": [
    "from cuml.cluster import KMeans\n",
    "\n",
    "model = KMeans(n_clusters=5)\n",
    "\n",
    "model.fit(X)"
   ]
  },
  {
   "cell_type": "code",
   "execution_count": 4,
   "metadata": {},
   "outputs": [],
   "source": [
    "import pickle\n",
    "\n",
    "pickle.dump(model, open(\"kmeans_model.pkl\", \"wb\"))"
   ]
  },
  {
   "cell_type": "code",
   "execution_count": 5,
   "metadata": {},
   "outputs": [],
   "source": [
    "model = pickle.load(open(\"kmeans_model.pkl\", \"rb\"))"
   ]
  },
  {
   "cell_type": "code",
   "execution_count": 6,
   "metadata": {},
   "outputs": [
    {
     "data": {
      "text/plain": [
       "array([3, 0, 1, 0, 2, 2, 1, 2, 4, 2, 2, 2, 0, 3, 3, 1, 0, 0, 2, 3, 1, 1,\n",
       "       1, 4, 3, 3, 4, 0, 1, 3, 2, 1, 4, 0, 1, 3, 2, 1, 3, 0, 1, 0, 4, 0,\n",
       "       3, 3, 2, 0, 2, 1], dtype=int32)"
      ]
     },
     "execution_count": 6,
     "metadata": {},
     "output_type": "execute_result"
    }
   ],
   "source": [
    "model.labels_"
   ]
  },
  {
   "cell_type": "markdown",
   "metadata": {},
   "source": [
    "## Distributed Model Pickling"
   ]
  },
  {
   "cell_type": "markdown",
   "metadata": {},
   "source": [
    "The distributed estimator wrappers inside of the `cuml.dask` are not intended to be pickled directly, as they will often contain extra information internally, such as connection information about the Dask cluster used for training. Instead, the Dask cuML estimators provide a function `get_combined_model()`, which returns the trained single-GPU model and can be pickled. The combined model will can be used for inference on a single-GPU, and the `ParallelPostFit` wrapper from the [Dask-ML](https://ml.dask.org/meta-estimators.html) library can be used to distributed inference on a Dask cluster.\n",
    "\n",
    "In this simple example, we will create a Dask cluster with one worker mapped to each GPU on the local physical machine. We'll create a synthetic dataset distributed across the Dask workers, train a K-means model, and demonstrate the pickling of that model."
   ]
  },
  {
   "cell_type": "code",
   "execution_count": 7,
   "metadata": {},
   "outputs": [
    {
     "name": "stderr",
     "output_type": "stream",
     "text": [
      "/share/software/miniconda3/envs/cuml_017_103020/lib/python3.8/site-packages/distributed/node.py:151: UserWarning: Port 8787 is already in use.\n",
      "Perhaps you already have a cluster running?\n",
      "Hosting the HTTP server on port 40971 instead\n",
      "  warnings.warn(\n",
      "WARNING:bokeh.server.util:Host wildcard '*' will allow connections originating from multiple (or possibly all) hostnames or IPs. Use non-wildcard values to restrict access explicitly\n"
     ]
    },
    {
     "data": {
      "text/html": [
       "<table style=\"border: 2px solid white;\">\n",
       "<tr>\n",
       "<td style=\"vertical-align: top; border: 0px solid white\">\n",
       "<h3 style=\"text-align: left;\">Client</h3>\n",
       "<ul style=\"text-align: left; list-style: none; margin: 0; padding: 0;\">\n",
       "  <li><b>Scheduler: </b>tcp://127.0.0.1:46573</li>\n",
       "  <li><b>Dashboard: </b><a href='http://127.0.0.1:40971/status' target='_blank'>http://127.0.0.1:40971/status</a></li>\n",
       "</ul>\n",
       "</td>\n",
       "<td style=\"vertical-align: top; border: 0px solid white\">\n",
       "<h3 style=\"text-align: left;\">Cluster</h3>\n",
       "<ul style=\"text-align: left; list-style:none; margin: 0; padding: 0;\">\n",
       "  <li><b>Workers: </b>2</li>\n",
       "  <li><b>Cores: </b>2</li>\n",
       "  <li><b>Memory: </b>50.39 GB</li>\n",
       "</ul>\n",
       "</td>\n",
       "</tr>\n",
       "</table>"
      ],
      "text/plain": [
       "<Client: 'tcp://127.0.0.1:46573' processes=2 threads=2, memory=50.39 GB>"
      ]
     },
     "execution_count": 7,
     "metadata": {},
     "output_type": "execute_result"
    }
   ],
   "source": [
    "from dask.distributed import Client\n",
    "from dask_cuda import LocalCUDACluster\n",
    "\n",
    "cluster = LocalCUDACluster()\n",
    "client = Client(cluster)\n",
    "client"
   ]
  },
  {
   "cell_type": "markdown",
   "metadata": {},
   "source": [
    "We will use `make_blobs` from the `cuml.dask.datasets` package to create create a distributed dataset of clustered points for this example. "
   ]
  },
  {
   "cell_type": "code",
   "execution_count": 8,
   "metadata": {},
   "outputs": [],
   "source": [
    "from cuml.dask.datasets import make_blobs\n",
    "\n",
    "n_workers = len(client.scheduler_info()[\"workers\"].keys())\n",
    "\n",
    "X, y = make_blobs(n_samples=5000, \n",
    "                  n_features=30,\n",
    "                  centers=5, \n",
    "                  cluster_std=0.4, \n",
    "                  random_state=0,\n",
    "                  n_parts=n_workers*5)\n",
    "\n",
    "X = X.persist()\n",
    "y = y.persist()"
   ]
  },
  {
   "cell_type": "markdown",
   "metadata": {},
   "source": [
    "We verify the distribution of the data across the Dask workers"
   ]
  },
  {
   "cell_type": "code",
   "execution_count": 9,
   "metadata": {},
   "outputs": [
    {
     "data": {
      "text/plain": [
       "{'tcp://127.0.0.1:46298': (), 'tcp://127.0.0.1:46704': ()}"
      ]
     },
     "execution_count": 9,
     "metadata": {},
     "output_type": "execute_result"
    }
   ],
   "source": [
    "client.has_what()"
   ]
  },
  {
   "cell_type": "markdown",
   "metadata": {},
   "source": [
    "### Train Distributed Model"
   ]
  },
  {
   "cell_type": "code",
   "execution_count": 10,
   "metadata": {},
   "outputs": [],
   "source": [
    "from cuml.dask.cluster import KMeans\n",
    "\n",
    "dist_model = KMeans(n_clusters=5)"
   ]
  },
  {
   "cell_type": "markdown",
   "metadata": {},
   "source": [
    "The combined model returns `None` when not yet trained"
   ]
  },
  {
   "cell_type": "code",
   "execution_count": 11,
   "metadata": {},
   "outputs": [
    {
     "name": "stdout",
     "output_type": "stream",
     "text": [
      "None\n"
     ]
    }
   ],
   "source": [
    "print(dist_model.get_combined_model())"
   ]
  },
  {
   "cell_type": "code",
   "execution_count": 12,
   "metadata": {},
   "outputs": [
    {
     "data": {
      "text/plain": [
       "<cuml.dask.cluster.kmeans.KMeans at 0x7f98253318e0>"
      ]
     },
     "execution_count": 12,
     "metadata": {},
     "output_type": "execute_result"
    }
   ],
   "source": [
    "dist_model.fit(X)"
   ]
  },
  {
   "cell_type": "markdown",
   "metadata": {},
   "source": [
    "When an attribute doesn't exist on the distributed model, it is proxied to the underlying single-GPU models.\n",
    "\n",
    "Note: If needed, we could move the proxy logic into a function that can be overrided in subclasses for special cases (e.g., random forests). "
   ]
  },
  {
   "cell_type": "code",
   "execution_count": 13,
   "metadata": {},
   "outputs": [
    {
     "data": {
      "text/plain": [
       "array([[-2.9020925 ,  4.463565  , -4.4427094 ,  2.3719027 ,  1.754001  ,\n",
       "        -2.4955208 , -5.2054358 , -1.7240267 , -8.127401  ,  2.6504474 ,\n",
       "        -4.299597  ,  5.6064153 , -5.7395763 , -1.7248514 , -9.357102  ,\n",
       "         0.6998829 ,  4.4257264 , -2.8838768 , -4.9503736 ,  9.685088  ,\n",
       "         8.412251  , -6.23566   , -6.3632874 ,  1.9591737 ,  4.1670237 ,\n",
       "        -9.153275  ,  4.603081  ,  8.797906  ,  6.8343625 ,  2.2377446 ],\n",
       "       [-6.9521384 , -9.75687   , -6.5682516 , -0.4416489 ,  6.092376  ,\n",
       "         3.7397556 , -3.9585989 ,  6.173612  , -1.8475274 ,  5.0108423 ,\n",
       "        -6.849037  ,  1.3506444 ,  9.007689  , -1.0089554 ,  9.673699  ,\n",
       "         9.785972  , -8.635385  ,  5.9851184 ,  2.2260423 , -3.6438909 ,\n",
       "         7.0530643 , -7.3746967 , -5.3177795 , -6.97397   , -7.919112  ,\n",
       "         6.684978  , -5.586685  ,  7.132586  ,  6.583669  , -8.290217  ],\n",
       "       [ 6.2495494 ,  9.245422  ,  8.364465  ,  9.021309  ,  7.6980543 ,\n",
       "        -0.99231136, -6.271332  ,  1.405315  , -6.9830008 , -5.958566  ,\n",
       "         1.0663007 , -0.02126697,  2.794614  ,  1.8402307 , -8.226576  ,\n",
       "         3.0416663 , -8.475402  ,  9.716177  , -7.7569118 ,  3.4604704 ,\n",
       "        -3.9296515 , -4.104147  ,  2.6711257 ,  1.3085728 ,  1.0286957 ,\n",
       "         5.24553   , -1.6519713 ,  6.152376  , -6.9043674 , -9.641573  ],\n",
       "       [-4.6595864 , -9.578357  ,  6.6512713 ,  4.4457498 ,  2.1801045 ,\n",
       "         2.611769  ,  0.5923821 ,  6.249009  , -8.817254  , -0.41071406,\n",
       "         9.815973  ,  7.5775385 ,  9.986206  , -5.858885  , -1.2428757 ,\n",
       "        -2.5559528 , -1.0446941 , -5.252986  , -9.3230715 ,  4.621556  ,\n",
       "        -0.1072749 , -3.930478  ,  6.1892705 , -7.415579  ,  5.6697273 ,\n",
       "        -8.56471   , -7.5154557 , -5.5349684 ,  4.859372  ,  2.5603094 ],\n",
       "       [ 4.811571  ,  8.419027  , -9.238327  ,  9.380197  ,  8.494089  ,\n",
       "        -1.0680069 ,  3.358382  , -7.799151  , -0.5922657 ,  0.2752325 ,\n",
       "         5.511196  , -4.120103  ,  4.3025985 , -2.838152  ,  3.6216238 ,\n",
       "        -4.170197  , -3.6244812 ,  6.208701  , -6.9180326 , -1.0881603 ,\n",
       "        -5.8366294 ,  2.191313  , -3.8584485 , -1.7027951 , -5.3133397 ,\n",
       "         7.5754147 ,  2.9267452 ,  8.543089  ,  1.5802664 ,  1.0812526 ]],\n",
       "      dtype=float32)"
      ]
     },
     "execution_count": 13,
     "metadata": {},
     "output_type": "execute_result"
    }
   ],
   "source": [
    "dist_model.cluster_centers_"
   ]
  },
  {
   "cell_type": "markdown",
   "metadata": {},
   "source": [
    "If an attribute doesn't exist, we get an error"
   ]
  },
  {
   "cell_type": "code",
   "execution_count": 14,
   "metadata": {},
   "outputs": [
    {
     "name": "stdout",
     "output_type": "stream",
     "text": [
      "Failed\n"
     ]
    }
   ],
   "source": [
    "try:\n",
    "    dist_model.cluster_centers_fail_\n",
    "except AttributeError:\n",
    "    print(\"Failed\")"
   ]
  },
  {
   "cell_type": "markdown",
   "metadata": {},
   "source": [
    "The MG subclass also provides the ability to treat attributes differently when they don't make sense in the distributed context. \n",
    "\n",
    "For example, calling `combined_model.labels_` would only reference the labels for one partition. Collecting the labels assigned to the training inputs onto a single GPU will not scale, so this attribute gets blanked out in the MG version"
   ]
  },
  {
   "cell_type": "code",
   "execution_count": 15,
   "metadata": {},
   "outputs": [
    {
     "name": "stdout",
     "output_type": "stream",
     "text": [
      "None\n"
     ]
    }
   ],
   "source": [
    "print(dist_model.labels_)"
   ]
  },
  {
   "cell_type": "markdown",
   "metadata": {},
   "source": [
    "If needed, the labels can be computed again"
   ]
  },
  {
   "cell_type": "code",
   "execution_count": 16,
   "metadata": {},
   "outputs": [],
   "source": [
    "y_hat = dist_model.predict(X).compute().get()"
   ]
  },
  {
   "cell_type": "markdown",
   "metadata": {},
   "source": [
    "### Visualize Clusters"
   ]
  },
  {
   "cell_type": "markdown",
   "metadata": {},
   "source": [
    "Plot ground truth clusters"
   ]
  },
  {
   "cell_type": "code",
   "execution_count": 17,
   "metadata": {},
   "outputs": [
    {
     "data": {
      "text/plain": [
       "<matplotlib.collections.PathCollection at 0x7f9824bffdc0>"
      ]
     },
     "execution_count": 17,
     "metadata": {},
     "output_type": "execute_result"
    },
    {
     "data": {
      "image/png": "[encoded data removed]",
      "text/plain": [
       "<Figure size 432x288 with 1 Axes>"
      ]
     },
     "metadata": {
      "needs_background": "light"
     },
     "output_type": "display_data"
    }
   ],
   "source": [
    "import matplotlib.pyplot as plt\n",
    "\n",
    "X_host = X.compute().get()\n",
    "y_host = y.compute().get()\n",
    "\n",
    "plt.scatter(X_host[:,0], X_host[:,1], c=y_host, s=0.5)"
   ]
  },
  {
   "cell_type": "markdown",
   "metadata": {},
   "source": [
    "Plot predicted clusters"
   ]
  },
  {
   "cell_type": "code",
   "execution_count": 18,
   "metadata": {},
   "outputs": [
    {
     "data": {
      "text/plain": [
       "<matplotlib.collections.PathCollection at 0x7f981c4813a0>"
      ]
     },
     "execution_count": 18,
     "metadata": {},
     "output_type": "execute_result"
    },
    {
     "data": {
      "image/png": "[encoded data removed]",
      "text/plain": [
       "<Figure size 432x288 with 1 Axes>"
      ]
     },
     "metadata": {
      "needs_background": "light"
     },
     "output_type": "display_data"
    }
   ],
   "source": [
    "plt.scatter(X_host[:,0], X_host[:,1], c=y_hat, s=0.5)"
   ]
  },
  {
   "cell_type": "markdown",
   "metadata": {},
   "source": [
    "### Extract combined single-GPU model"
   ]
  },
  {
   "cell_type": "code",
   "execution_count": 19,
   "metadata": {},
   "outputs": [
    {
     "data": {
      "text/plain": [
       "cuml.cluster.kmeans_mg.KMeansMG"
      ]
     },
     "execution_count": 19,
     "metadata": {},
     "output_type": "execute_result"
    }
   ],
   "source": [
    "single_gpu_model = dist_model.get_combined_model()\n",
    "type(single_gpu_model)"
   ]
  },
  {
   "cell_type": "code",
   "execution_count": 20,
   "metadata": {},
   "outputs": [
    {
     "data": {
      "text/plain": [
       "array([[-2.9020925 ,  4.463565  , -4.4427094 ,  2.3719027 ,  1.754001  ,\n",
       "        -2.4955208 , -5.2054358 , -1.7240267 , -8.127401  ,  2.6504474 ,\n",
       "        -4.299597  ,  5.6064153 , -5.7395763 , -1.7248514 , -9.357102  ,\n",
       "         0.6998829 ,  4.4257264 , -2.8838768 , -4.9503736 ,  9.685088  ,\n",
       "         8.412251  , -6.23566   , -6.3632874 ,  1.9591737 ,  4.1670237 ,\n",
       "        -9.153275  ,  4.603081  ,  8.797906  ,  6.8343625 ,  2.2377446 ],\n",
       "       [-6.9521384 , -9.75687   , -6.5682516 , -0.4416489 ,  6.092376  ,\n",
       "         3.7397556 , -3.9585989 ,  6.173612  , -1.8475274 ,  5.0108423 ,\n",
       "        -6.849037  ,  1.3506444 ,  9.007689  , -1.0089554 ,  9.673699  ,\n",
       "         9.785972  , -8.635385  ,  5.9851184 ,  2.2260423 , -3.6438909 ,\n",
       "         7.0530643 , -7.3746967 , -5.3177795 , -6.97397   , -7.919112  ,\n",
       "         6.684978  , -5.586685  ,  7.132586  ,  6.583669  , -8.290217  ],\n",
       "       [ 6.2495494 ,  9.245422  ,  8.364465  ,  9.021309  ,  7.6980543 ,\n",
       "        -0.99231136, -6.271332  ,  1.405315  , -6.9830008 , -5.958566  ,\n",
       "         1.0663007 , -0.02126697,  2.794614  ,  1.8402307 , -8.226576  ,\n",
       "         3.0416663 , -8.475402  ,  9.716177  , -7.7569118 ,  3.4604704 ,\n",
       "        -3.9296515 , -4.104147  ,  2.6711257 ,  1.3085728 ,  1.0286957 ,\n",
       "         5.24553   , -1.6519713 ,  6.152376  , -6.9043674 , -9.641573  ],\n",
       "       [-4.6595864 , -9.578357  ,  6.6512713 ,  4.4457498 ,  2.1801045 ,\n",
       "         2.611769  ,  0.5923821 ,  6.249009  , -8.817254  , -0.41071406,\n",
       "         9.815973  ,  7.5775385 ,  9.986206  , -5.858885  , -1.2428757 ,\n",
       "        -2.5559528 , -1.0446941 , -5.252986  , -9.3230715 ,  4.621556  ,\n",
       "        -0.1072749 , -3.930478  ,  6.1892705 , -7.415579  ,  5.6697273 ,\n",
       "        -8.56471   , -7.5154557 , -5.5349684 ,  4.859372  ,  2.5603094 ],\n",
       "       [ 4.811571  ,  8.419027  , -9.238327  ,  9.380197  ,  8.494089  ,\n",
       "        -1.0680069 ,  3.358382  , -7.799151  , -0.5922657 ,  0.2752325 ,\n",
       "         5.511196  , -4.120103  ,  4.3025985 , -2.838152  ,  3.6216238 ,\n",
       "        -4.170197  , -3.6244812 ,  6.208701  , -6.9180326 , -1.0881603 ,\n",
       "        -5.8366294 ,  2.191313  , -3.8584485 , -1.7027951 , -5.3133397 ,\n",
       "         7.5754147 ,  2.9267452 ,  8.543089  ,  1.5802664 ,  1.0812526 ]],\n",
       "      dtype=float32)"
      ]
     },
     "execution_count": 20,
     "metadata": {},
     "output_type": "execute_result"
    }
   ],
   "source": [
    "single_gpu_model.cluster_centers_"
   ]
  },
  {
   "cell_type": "markdown",
   "metadata": {},
   "source": [
    "### Save & load model"
   ]
  },
  {
   "cell_type": "markdown",
   "metadata": {},
   "source": [
    "Serialize model to disk "
   ]
  },
  {
   "cell_type": "code",
   "execution_count": 21,
   "metadata": {},
   "outputs": [],
   "source": [
    "import pickle\n",
    "pickle.dump(single_gpu_model, open(\"kmeans_model.pkl\", \"wb\"))"
   ]
  },
  {
   "cell_type": "markdown",
   "metadata": {},
   "source": [
    "Load serialized model"
   ]
  },
  {
   "cell_type": "code",
   "execution_count": 22,
   "metadata": {},
   "outputs": [
    {
     "data": {
      "text/plain": [
       "cuml.cluster.kmeans_mg.KMeansMG"
      ]
     },
     "execution_count": 22,
     "metadata": {},
     "output_type": "execute_result"
    }
   ],
   "source": [
    "single_gpu_model = pickle.load(open(\"kmeans_model.pkl\", \"rb\"))\n",
    "type(single_gpu_model)"
   ]
  },
  {
   "cell_type": "markdown",
   "metadata": {},
   "source": [
    "### Perform Single GPU Inference & Visualize"
   ]
  },
  {
   "cell_type": "code",
   "execution_count": 23,
   "metadata": {},
   "outputs": [],
   "source": [
    "y_hat = single_gpu_model.predict(X.compute()).get()"
   ]
  },
  {
   "cell_type": "code",
   "execution_count": 24,
   "metadata": {},
   "outputs": [
    {
     "data": {
      "text/plain": [
       "<matplotlib.collections.PathCollection at 0x7f981c3ea4f0>"
      ]
     },
     "execution_count": 24,
     "metadata": {},
     "output_type": "execute_result"
    },
    {
     "data": {
      "image/png": "[encoded data removed]",
      "text/plain": [
       "<Figure size 432x288 with 1 Axes>"
      ]
     },
     "metadata": {
      "needs_background": "light"
     },
     "output_type": "display_data"
    }
   ],
   "source": [
    "plt.scatter(X_host[:,0], X_host[:,1], c=y_hat, s=0.5)"
   ]
  },
  {
   "cell_type": "markdown",
   "metadata": {},
   "source": [
    "### Perform Distributed Inference & Visualize\n",
    "\n",
    "cuML estimators support the `ParallelPostFit` wrapper from the Dask-ML project, which can use the loaded single-GPU model to perform distributed inference on a Dask cluster. Refer to the [Dask-ML API Docs](https://ml.dask.org/meta-estimators.html) for more information about `ParallelPostFit`."
   ]
  },
  {
   "cell_type": "code",
   "execution_count": 25,
   "metadata": {},
   "outputs": [],
   "source": [
    "from dask_ml.wrappers import ParallelPostFit\n",
    "\n",
    "dist_model = ParallelPostFit(estimator=single_gpu_model)"
   ]
  },
  {
   "cell_type": "code",
   "execution_count": 26,
   "metadata": {},
   "outputs": [],
   "source": [
    "y_hat = dist_model.predict(X).compute()"
   ]
  },
  {
   "cell_type": "code",
   "execution_count": 27,
   "metadata": {},
   "outputs": [
    {
     "data": {
      "text/plain": [
       "<matplotlib.collections.PathCollection at 0x7f980bb135b0>"
      ]
     },
     "execution_count": 27,
     "metadata": {},
     "output_type": "execute_result"
    },
    {
     "data": {
      "image/png": "[encoded data removed]",
      "text/plain": [
       "<Figure size 432x288 with 1 Axes>"
      ]
     },
     "metadata": {
      "needs_background": "light"
     },
     "output_type": "display_data"
    }
   ],
   "source": [
    "plt.scatter(X_host[:,0], X_host[:,1], c=y_hat.get(), s=0.5)"
   ]
  }
 ],
 "metadata": {
  "kernelspec": {
   "display_name": "Python 3",
   "language": "python",
   "name": "python3"
  },
  "language_info": {
   "codemirror_mode": {
    "name": "ipython",
    "version": 3
   },
   "file_extension": ".py",
   "mimetype": "text/x-python",
   "name": "python",
   "nbconvert_exporter": "python",
   "pygments_lexer": "ipython3",
   "version": "3.8.6"
  }
 },
 "nbformat": 4,
 "nbformat_minor": 4
}
