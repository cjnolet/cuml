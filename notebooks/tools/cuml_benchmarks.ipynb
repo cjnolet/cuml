{
 "cells": [
  {
   "cell_type": "markdown",
   "metadata": {},
   "source": [
    "# RAPIDS cuML \n",
    "## Performance, Boundaries, and Correctness Benchmarks\n",
    "\n",
    "**Description:** This notebook provides a simple and unified means of benchmarking single GPU cuML algorithms against their skLearn counterparts with the `cuml.benchmark` package in RAPIDS cuML. This enables quick and simple measurements of performance, validation of correctness, and investigation of upper bounds.\n",
    "\n",
    "Each benchmark returns a Pandas `DataFrame` with the results. At the end of the notebook, these results are used to draw charts and output to a CSV file. \n",
    "\n",
    "Please refer to the [table of contents](#table_of_contents) for algorithms available to be benchmarked with this notebook."
   ]
  },
  {
   "cell_type": "code",
   "execution_count": 1,
   "metadata": {},
   "outputs": [
    {
     "name": "stdout",
     "output_type": "stream",
     "text": [
      "0.14.0a+2963.g83c008a.dirty\n"
     ]
    },
    {
     "name": "stderr",
     "output_type": "stream",
     "text": [
      "/share/software/miniconda3/envs/cuml_014_release/lib/python3.7/site-packages/umap/spectral.py:4: NumbaDeprecationWarning: No direct replacement for 'numba.targets' available. Visit https://gitter.im/numba/numba-dev to request help. Thanks!\n",
      "  import numba.targets\n"
     ]
    }
   ],
   "source": [
    "import cuml\n",
    "import pandas as pd\n",
    "\n",
    "from cuml.benchmark.runners import SpeedupComparisonRunner\n",
    "from cuml.benchmark.algorithms import algorithm_by_name\n",
    "\n",
    "import warnings\n",
    "warnings.filterwarnings('ignore', 'Expected column ')\n",
    "\n",
    "print(cuml.__version__)"
   ]
  },
  {
   "cell_type": "code",
   "execution_count": 2,
   "metadata": {},
   "outputs": [],
   "source": [
    "N_REPS = 3  # Number of times each test is repeated\n",
    "\n",
    "DATA_NEIGHBORHOODS = \"blobs\"\n",
    "DATA_CLASSIFICATION = \"classification\"\n",
    "DATA_REGRESSION = \"regression\"\n",
    "\n",
    "INPUT_TYPE = \"numpy\"\n",
    "\n",
    "benchmark_results = []"
   ]
  },
  {
   "cell_type": "code",
   "execution_count": 3,
   "metadata": {},
   "outputs": [],
   "source": [
    "SMALL_ROW_SIZES = [2**x for x in range(14, 17)]\n",
    "LARGE_ROW_SIZES = [2**x for x in range(18, 24, 2)]\n",
    "\n",
    "SKINNY_FEATURES = [32, 256]\n",
    "WIDE_FEATURES = [1000, 10000]\n",
    "\n",
    "VERBOSE=False\n",
    "RUN_CPU=False\n",
    "N_TRIALS=3"
   ]
  },
  {
   "cell_type": "code",
   "execution_count": 4,
   "metadata": {},
   "outputs": [
    {
     "data": {
      "text/plain": [
       "0"
      ]
     },
     "execution_count": 4,
     "metadata": {},
     "output_type": "execute_result"
    }
   ],
   "source": [
    "import rmm\n",
    "\n",
    "POOL_SIZE_GB=15\n",
    "\n",
    "rmm.reinitialize(pool_allocator=True,\n",
    "                 initial_pool_size=1024*1024*1024*POOL_SIZE_GB)"
   ]
  },
  {
   "cell_type": "code",
   "execution_count": 5,
   "metadata": {},
   "outputs": [],
   "source": [
    "def enrich_result(algorithm, runner, result):\n",
    "    result[\"algo\"] = algorithm\n",
    "    result[\"dataset_name\"] = runner.dataset_name\n",
    "    result[\"input_type\"] = runner.input_type\n",
    "    return result\n",
    "\n",
    "def execute_benchmark(algorithm, runner, verbose=VERBOSE, run_cpu=RUN_CPU, **kwargs):\n",
    "    \"\"\"\n",
    "    Executes a benchmark with the given parameters\n",
    "    \n",
    "    Parameters\n",
    "    ----------\n",
    "    \n",
    "    algorithm : str or cuml.benchmark.algorithms.AlgorithmPair \n",
    "        Algorithm configuration to benchmark. String input must be \n",
    "        registered in cuml.benchmark.algorithms.all_algorithms()\n",
    "        \n",
    "    runner : cuml.benchmark.runners.SpeedupComparisonRunner\n",
    "        Benchmark runner for computing results\n",
    "        \n",
    "    verbose : bool\n",
    "        Print intermediary results\n",
    "        \n",
    "    run_cpu : bool\n",
    "        Whether to run the CPU benchmark. This will be\n",
    "        ignored if a corresponding CPU benchmark is not\n",
    "        provided.\n",
    "    \"\"\"\n",
    "    \n",
    "    algo = algorithm_by_name(algorithm) if isinstance(algorithm, str) else algorithm\n",
    "    \n",
    "    results = runner.run(algo, verbose=verbose, run_cpu=run_cpu, **kwargs)\n",
    "    results = [enrich_result(algorithm, runner, result) for result in results]\n",
    "    benchmark_results.extend(results)"
   ]
  },
  {
   "cell_type": "markdown",
   "metadata": {},
   "source": [
    "## Table of Contents<a id=\"table_of_contents\"/>\n",
    "\n",
    "### Benchmarks\n",
    "1. [Neighbors](#neighbors)<br>\n",
    "    1.1 [Nearest Neighbors - Brute Force](#nn_bruteforce)<br>\n",
    "    1.2 [KNeighborsClassifier](#kneighborsclassifier)<br>\n",
    "    1.3 [KNeighborsRegressor](#kneighborsregressor)<br>\n",
    "2. [Clustering](#clustering)<br>\n",
    "    2.1 [DBSCAN - Brute Force](#dbscan_bruteforce)<br>\n",
    "    2.2 [K-Means](#kmeans)<br>\n",
    "3. [Manifold Learning](#manifold_learning)<br>\n",
    "    3.1 [UMAP - Unsupervised](#umap_unsupervised)<br>\n",
    "    3.2 [UMAP - Supervised](#umap_supervised)<br>\n",
    "    3.3 [T-SNE](#tsne)<br>\n",
    "4. [Linear Models](#linear_models)<br>\n",
    "    4.1 [Linear Regression](#linear_regression)<br>\n",
    "    4.2 [Logistic Regression](#logistic_regression)<br>\n",
    "    4.3 [Ridge Regression](#ridge_regression)<br>\n",
    "    4.4 [Lasso Regression](#lasso_regression)<br>\n",
    "    4.5 [ElasticNet Regression](#elasticnet_regression)<br>\n",
    "    4.6 [Mini-batch SGD Classifier](#minibatch_sgd_classifier)<br>\n",
    "5. [Decomposition](#decomposition)<br>\n",
    "    5.1 [PCA](#pca)<br>\n",
    "    5.2 [Truncated SVD](#truncated_svd)<br>\n",
    "6. [Ensemble](#ensemble)<br>\n",
    "    6.1 [Random Forest Classifier](#random_forest_classifier)<br>\n",
    "    6.2 [Random Forest Regressor](#random_forest_regressor)<br>\n",
    "    6.3 [FIL](#fil)<br>\n",
    "    6.4 [Sparse FIL](#sparse_fil)<br>\n",
    "7. [Random Projection](#random_projection)<br>\n",
    "    7.1 [Gaussian Random Projection](#gaussian_random_projection)<br>\n",
    "    7.2 [Sparse Random Projection](#sparse_random_projection)<br>\n",
    "8. [SVM](#svm)<br>\n",
    "    8.1 [SVC - Linear Kernel](#svc_linear_kernel)<br>\n",
    "    8.2 [SVC - RBF Kernel](#svc_rbf_kernel)<br>\n",
    "    8.3 [SVR - Linear Kernel](#svr_linear_kernel)<br>\n",
    "    8.4 [SVR - RBF Kernel](#svr_rbf_kernel)<br>\n",
    "    \n",
    "### Chart & Store Results\n",
    "9. [Convert to Pandas DataFrame](#convert_to_pandas)<br>\n",
    "10. [Chart Results](#chart_results)<br>\n",
    "11. [Output to CSV](#output_csv)<br>"
   ]
  },
  {
   "cell_type": "markdown",
   "metadata": {},
   "source": [
    "## Neighbors<a id=\"neighbors\"/>\n"
   ]
  },
  {
   "cell_type": "markdown",
   "metadata": {},
   "source": [
    "### Nearest Neighbors - Brute Force<a id=\"nn_bruteforce\"/>"
   ]
  },
  {
   "cell_type": "code",
   "execution_count": 12,
   "metadata": {},
   "outputs": [
    {
     "name": "stdout",
     "output_type": "stream",
     "text": [
      "NearestNeighbors (n_samples=16384, n_features=32) [cpu=0.0, gpu=0.24709081649780273, speedup=0.0]\n",
      "NearestNeighbors (n_samples=16384, n_features=256) [cpu=0.0, gpu=0.24360918998718262, speedup=0.0]\n",
      "NearestNeighbors (n_samples=32768, n_features=32) [cpu=0.0, gpu=0.43336915969848633, speedup=0.0]\n",
      "NearestNeighbors (n_samples=32768, n_features=256) [cpu=0.0, gpu=0.4432222843170166, speedup=0.0]\n",
      "NearestNeighbors (n_samples=65536, n_features=32) [cpu=0.0, gpu=0.7726683616638184, speedup=0.0]\n",
      "NearestNeighbors (n_samples=65536, n_features=256) [cpu=0.0, gpu=0.786250114440918, speedup=0.0]\n"
     ]
    }
   ],
   "source": [
    "runner = cuml.benchmark.runners.SpeedupComparisonRunner(\n",
    "    bench_rows=SMALL_ROW_SIZES, \n",
    "    bench_dims=SKINNY_FEATURES,\n",
    "    dataset_name=DATA_NEIGHBORHOODS,\n",
    "    input_type=INPUT_TYPE,\n",
    "    n_reps=N_REPS,\n",
    ")\n",
    "\n",
    "execute_benchmark(\"NearestNeighbors\", runner)"
   ]
  },
  {
   "cell_type": "markdown",
   "metadata": {},
   "source": [
    "### KNeighborsClassifier<a id=\"kneighborsclassifier\"/>"
   ]
  },
  {
   "cell_type": "code",
   "execution_count": 13,
   "metadata": {},
   "outputs": [
    {
     "name": "stdout",
     "output_type": "stream",
     "text": [
      "KNeighborsClassifier (n_samples=16384, n_features=32) [cpu=0.0, gpu=0.0006213188171386719, speedup=0.0]\n",
      "KNeighborsClassifier (n_samples=16384, n_features=256) [cpu=0.0, gpu=0.0032160282135009766, speedup=0.0]\n",
      "KNeighborsClassifier (n_samples=32768, n_features=32) [cpu=0.0, gpu=0.001003265380859375, speedup=0.0]\n",
      "KNeighborsClassifier (n_samples=32768, n_features=256) [cpu=0.0, gpu=0.0059163570404052734, speedup=0.0]\n",
      "KNeighborsClassifier (n_samples=65536, n_features=32) [cpu=0.0, gpu=0.0018239021301269531, speedup=0.0]\n",
      "KNeighborsClassifier (n_samples=65536, n_features=256) [cpu=0.0, gpu=0.011499404907226562, speedup=0.0]\n"
     ]
    }
   ],
   "source": [
    "runner = cuml.benchmark.runners.SpeedupComparisonRunner(\n",
    "    bench_rows=SMALL_ROW_SIZES, \n",
    "    bench_dims=SKINNY_FEATURES,\n",
    "    dataset_name=DATA_CLASSIFICATION,\n",
    "    input_type=INPUT_TYPE,\n",
    "    n_reps=N_REPS\n",
    ")\n",
    "\n",
    "execute_benchmark(\"KNeighborsClassifier\", runner)"
   ]
  },
  {
   "cell_type": "markdown",
   "metadata": {},
   "source": [
    "### KNeighborsRegressor<a id=\"kneighborsregressor\"/>"
   ]
  },
  {
   "cell_type": "code",
   "execution_count": 14,
   "metadata": {},
   "outputs": [
    {
     "name": "stdout",
     "output_type": "stream",
     "text": [
      "KNeighborsRegressor (n_samples=16384, n_features=32) [cpu=0.0, gpu=0.0007441043853759766, speedup=0.0]\n",
      "KNeighborsRegressor (n_samples=16384, n_features=256) [cpu=0.0, gpu=0.0032858848571777344, speedup=0.0]\n",
      "KNeighborsRegressor (n_samples=32768, n_features=32) [cpu=0.0, gpu=0.0021982192993164062, speedup=0.0]\n",
      "KNeighborsRegressor (n_samples=32768, n_features=256) [cpu=0.0, gpu=0.006070137023925781, speedup=0.0]\n",
      "KNeighborsRegressor (n_samples=65536, n_features=32) [cpu=0.0, gpu=0.0019071102142333984, speedup=0.0]\n",
      "KNeighborsRegressor (n_samples=65536, n_features=256) [cpu=0.0, gpu=0.011528253555297852, speedup=0.0]\n"
     ]
    }
   ],
   "source": [
    "runner = cuml.benchmark.runners.SpeedupComparisonRunner(\n",
    "    bench_rows=SMALL_ROW_SIZES, \n",
    "    bench_dims=SKINNY_FEATURES,\n",
    "    dataset_name=DATA_REGRESSION,\n",
    "    input_type=INPUT_TYPE,\n",
    "    n_reps=N_REPS\n",
    ")\n",
    "\n",
    "execute_benchmark(\"KNeighborsRegressor\", runner)"
   ]
  },
  {
   "cell_type": "markdown",
   "metadata": {},
   "source": [
    "## Clustering<a id=\"clustering\"/>"
   ]
  },
  {
   "cell_type": "markdown",
   "metadata": {},
   "source": [
    "### DBSCAN - Brute Force<a id=\"dbscan_bruteforce\"/>"
   ]
  },
  {
   "cell_type": "code",
   "execution_count": 15,
   "metadata": {},
   "outputs": [
    {
     "name": "stdout",
     "output_type": "stream",
     "text": [
      "DBSCAN (n_samples=16384, n_features=32) [cpu=0.0, gpu=0.011990070343017578, speedup=0.0]\n",
      "DBSCAN (n_samples=16384, n_features=256) [cpu=0.0, gpu=0.03246188163757324, speedup=0.0]\n",
      "DBSCAN (n_samples=32768, n_features=32) [cpu=0.0, gpu=0.0346684455871582, speedup=0.0]\n",
      "DBSCAN (n_samples=32768, n_features=256) [cpu=0.0, gpu=0.11403775215148926, speedup=0.0]\n",
      "DBSCAN (n_samples=65536, n_features=32) [cpu=0.0, gpu=0.21861910820007324, speedup=0.0]\n",
      "DBSCAN (n_samples=65536, n_features=256) [cpu=0.0, gpu=0.45586657524108887, speedup=0.0]\n"
     ]
    }
   ],
   "source": [
    "runner = cuml.benchmark.runners.SpeedupComparisonRunner(\n",
    "    bench_rows=SMALL_ROW_SIZES, \n",
    "    bench_dims=SKINNY_FEATURES,\n",
    "    dataset_name=DATA_NEIGHBORHOODS,\n",
    "    input_type=INPUT_TYPE,\n",
    "    n_reps=N_REPS\n",
    ")\n",
    "\n",
    "execute_benchmark(\"DBSCAN\", runner)"
   ]
  },
  {
   "cell_type": "markdown",
   "metadata": {},
   "source": [
    "### K-means Clustering<a id=\"kmeans\"/>"
   ]
  },
  {
   "cell_type": "code",
   "execution_count": 16,
   "metadata": {},
   "outputs": [
    {
     "name": "stdout",
     "output_type": "stream",
     "text": [
      "KMeans (n_samples=16384, n_features=32) [cpu=0.0, gpu=0.026336193084716797, speedup=0.0]\n",
      "KMeans (n_samples=16384, n_features=256) [cpu=0.0, gpu=0.032750844955444336, speedup=0.0]\n",
      "KMeans (n_samples=32768, n_features=32) [cpu=0.0, gpu=0.0581967830657959, speedup=0.0]\n",
      "KMeans (n_samples=32768, n_features=256) [cpu=0.0, gpu=0.060800790786743164, speedup=0.0]\n",
      "KMeans (n_samples=65536, n_features=32) [cpu=0.0, gpu=0.19099187850952148, speedup=0.0]\n",
      "KMeans (n_samples=65536, n_features=256) [cpu=0.0, gpu=0.10600900650024414, speedup=0.0]\n"
     ]
    }
   ],
   "source": [
    "runner = cuml.benchmark.runners.SpeedupComparisonRunner(\n",
    "    bench_rows=SMALL_ROW_SIZES, \n",
    "    bench_dims=SKINNY_FEATURES,\n",
    "    dataset_name=DATA_NEIGHBORHOODS,\n",
    "    input_type=\"numpy\",\n",
    "    n_reps=N_REPS\n",
    ")\n",
    "\n",
    "execute_benchmark(\"KMeans\", runner)"
   ]
  },
  {
   "cell_type": "markdown",
   "metadata": {},
   "source": [
    "## Manifold Learning<a id=\"manifold_learning\"/>"
   ]
  },
  {
   "cell_type": "markdown",
   "metadata": {},
   "source": [
    "### UMAP - Unsupervised<a id=\"umap_unsupervised\"/>\n",
    "CPU benchmark requires UMAP-learn"
   ]
  },
  {
   "cell_type": "code",
   "execution_count": 17,
   "metadata": {},
   "outputs": [
    {
     "name": "stdout",
     "output_type": "stream",
     "text": [
      "UMAP-Unsupervised (n_samples=16384, n_features=1000) [cpu=0.0, gpu=0.41876912117004395, speedup=0.0]\n",
      "UMAP-Unsupervised (n_samples=16384, n_features=10000) [cpu=0.0, gpu=0.7009663581848145, speedup=0.0]\n",
      "UMAP-Unsupervised (n_samples=32768, n_features=1000) [cpu=0.0, gpu=0.5457940101623535, speedup=0.0]\n",
      "UMAP-Unsupervised (n_samples=32768, n_features=10000) [cpu=0.0, gpu=1.602799892425537, speedup=0.0]\n",
      "UMAP-Unsupervised (n_samples=65536, n_features=1000) [cpu=0.0, gpu=1.1370246410369873, speedup=0.0]\n",
      "UMAP-Unsupervised (n_samples=65536, n_features=10000) [cpu=0.0, gpu=4.490304231643677, speedup=0.0]\n"
     ]
    }
   ],
   "source": [
    "runner = cuml.benchmark.runners.SpeedupComparisonRunner(\n",
    "    bench_rows=SMALL_ROW_SIZES, \n",
    "    bench_dims=WIDE_FEATURES,\n",
    "    dataset_name=DATA_NEIGHBORHOODS,\n",
    "    input_type=INPUT_TYPE,\n",
    "    n_reps=N_REPS\n",
    ")\n",
    "\n",
    "execute_benchmark(\"UMAP-Unsupervised\", runner)"
   ]
  },
  {
   "cell_type": "markdown",
   "metadata": {},
   "source": [
    "### UMAP - Supervised<a id=\"umap_supervised\"/>\n",
    "CPU benchmark requires UMAP-learn"
   ]
  },
  {
   "cell_type": "code",
   "execution_count": 18,
   "metadata": {},
   "outputs": [
    {
     "name": "stdout",
     "output_type": "stream",
     "text": [
      "UMAP-Supervised (n_samples=16384, n_features=1000) [cpu=0.0, gpu=0.4177861213684082, speedup=0.0]\n",
      "UMAP-Supervised (n_samples=16384, n_features=10000) [cpu=0.0, gpu=0.6883852481842041, speedup=0.0]\n",
      "UMAP-Supervised (n_samples=32768, n_features=1000) [cpu=0.0, gpu=0.5921440124511719, speedup=0.0]\n",
      "UMAP-Supervised (n_samples=32768, n_features=10000) [cpu=0.0, gpu=1.5910792350769043, speedup=0.0]\n",
      "UMAP-Supervised (n_samples=65536, n_features=1000) [cpu=0.0, gpu=1.1232435703277588, speedup=0.0]\n",
      "UMAP-Supervised (n_samples=65536, n_features=10000) [cpu=0.0, gpu=4.644205808639526, speedup=0.0]\n"
     ]
    }
   ],
   "source": [
    "runner = cuml.benchmark.runners.SpeedupComparisonRunner(\n",
    "    bench_rows=SMALL_ROW_SIZES, \n",
    "    bench_dims=WIDE_FEATURES,\n",
    "    dataset_name=DATA_NEIGHBORHOODS,\n",
    "    input_type=INPUT_TYPE,\n",
    "    n_reps=N_REPS\n",
    ")\n",
    "\n",
    "execute_benchmark(\"UMAP-Supervised\", runner)"
   ]
  },
  {
   "cell_type": "markdown",
   "metadata": {},
   "source": [
    "### T-SNE<a id=\"tsne\"/>"
   ]
  },
  {
   "cell_type": "code",
   "execution_count": null,
   "metadata": {},
   "outputs": [
    {
     "name": "stdout",
     "output_type": "stream",
     "text": [
      "Creating tsne object\n",
      "INSIDE FIT\n",
      "Calling tsne_fit\n",
      "Done.\n",
      "Creating tsne object\n",
      "INSIDE FIT\n",
      "Calling tsne_fit\n",
      "Done.\n",
      "Creating tsne object\n",
      "INSIDE FIT\n",
      "Calling tsne_fit\n",
      "Done.\n",
      "TSNE (n_samples=16384, n_features=32) [cpu=0.0, gpu=1.6280348300933838, speedup=0.0]\n",
      "Creating tsne object\n",
      "INSIDE FIT\n",
      "Calling tsne_fit\n"
     ]
    }
   ],
   "source": [
    "runner = cuml.benchmark.runners.SpeedupComparisonRunner(\n",
    "    bench_rows=SMALL_ROW_SIZES, \n",
    "    bench_dims=SKINNY_FEATURES, \n",
    "    dataset_name=DATA_NEIGHBORHOODS,\n",
    "    input_type=INPUT_TYPE,\n",
    "    n_reps=N_REPS\n",
    ")\n",
    "\n",
    "# Due to extreme high runtime, the CPU benchmark \n",
    "# is disabled. Use run_cpu=True to re-enable. \n",
    "\n",
    "algo = cuml.benchmark.algorithms.algorithm_by_name(\"TSNE\")\n",
    "algo.cuml_args[\"verbose\"] = \n",
    "\n",
    "execute_benchmark(algo, runner, run_cpu=False, verbose=1)"
   ]
  },
  {
   "cell_type": "markdown",
   "metadata": {},
   "source": [
    "## Linear Models<a id=\"linear_models\"/>"
   ]
  },
  {
   "cell_type": "markdown",
   "metadata": {},
   "source": [
    "### Linear Regression<a id=\"linear_regression\"/>"
   ]
  },
  {
   "cell_type": "code",
   "execution_count": 19,
   "metadata": {},
   "outputs": [
    {
     "name": "stdout",
     "output_type": "stream",
     "text": [
      "LinearRegression (n_samples=16384, n_features=32) [cpu=0.0, gpu=0.004357099533081055, speedup=0.0]\n",
      "LinearRegression (n_samples=16384, n_features=256) [cpu=0.0, gpu=0.016313552856445312, speedup=0.0]\n",
      "LinearRegression (n_samples=32768, n_features=32) [cpu=0.0, gpu=0.008887767791748047, speedup=0.0]\n",
      "LinearRegression (n_samples=32768, n_features=256) [cpu=0.0, gpu=0.020363807678222656, speedup=0.0]\n",
      "LinearRegression (n_samples=65536, n_features=32) [cpu=0.0, gpu=0.006096363067626953, speedup=0.0]\n",
      "LinearRegression (n_samples=65536, n_features=256) [cpu=0.0, gpu=0.02695298194885254, speedup=0.0]\n"
     ]
    }
   ],
   "source": [
    "runner = cuml.benchmark.runners.SpeedupComparisonRunner(\n",
    "    bench_rows=SMALL_ROW_SIZES, \n",
    "    bench_dims=SKINNY_FEATURES,\n",
    "    dataset_name=DATA_REGRESSION,\n",
    "    input_type=INPUT_TYPE,\n",
    "    n_reps=N_REPS\n",
    ")\n",
    "\n",
    "execute_benchmark(\"LinearRegression\", runner)"
   ]
  },
  {
   "cell_type": "markdown",
   "metadata": {},
   "source": [
    "### Logistic Regression<a id=\"logistic_regression\"/>"
   ]
  },
  {
   "cell_type": "code",
   "execution_count": 20,
   "metadata": {},
   "outputs": [
    {
     "name": "stdout",
     "output_type": "stream",
     "text": [
      "LogisticRegression (n_samples=16384, n_features=32) [cpu=0.0, gpu=0.00618743896484375, speedup=0.0]\n",
      "LogisticRegression (n_samples=16384, n_features=256) [cpu=0.0, gpu=0.009213924407958984, speedup=0.0]\n",
      "LogisticRegression (n_samples=32768, n_features=32) [cpu=0.0, gpu=0.005862236022949219, speedup=0.0]\n",
      "LogisticRegression (n_samples=32768, n_features=256) [cpu=0.0, gpu=0.01222991943359375, speedup=0.0]\n",
      "LogisticRegression (n_samples=65536, n_features=32) [cpu=0.0, gpu=0.007162332534790039, speedup=0.0]\n",
      "LogisticRegression (n_samples=65536, n_features=256) [cpu=0.0, gpu=0.01919102668762207, speedup=0.0]\n"
     ]
    }
   ],
   "source": [
    "runner = cuml.benchmark.runners.SpeedupComparisonRunner(\n",
    "    bench_rows=SMALL_ROW_SIZES, \n",
    "    bench_dims=SKINNY_FEATURES,\n",
    "    dataset_name=DATA_CLASSIFICATION,\n",
    "    input_type=INPUT_TYPE,\n",
    "    n_reps=N_REPS\n",
    ")\n",
    "\n",
    "execute_benchmark(\"LogisticRegression\", runner)"
   ]
  },
  {
   "cell_type": "markdown",
   "metadata": {},
   "source": [
    "### Ridge Regression<a id=\"ridge_regression\"/>"
   ]
  },
  {
   "cell_type": "code",
   "execution_count": 21,
   "metadata": {},
   "outputs": [
    {
     "name": "stdout",
     "output_type": "stream",
     "text": [
      "Failed to run with 16384 samples, 32 features: __init__() got an unexpected keyword argument 'verbose'\n",
      "Failed to run with 16384 samples, 256 features: __init__() got an unexpected keyword argument 'verbose'\n",
      "Failed to run with 32768 samples, 32 features: __init__() got an unexpected keyword argument 'verbose'\n",
      "Failed to run with 32768 samples, 256 features: __init__() got an unexpected keyword argument 'verbose'\n",
      "Failed to run with 65536 samples, 32 features: __init__() got an unexpected keyword argument 'verbose'\n",
      "Failed to run with 65536 samples, 256 features: __init__() got an unexpected keyword argument 'verbose'\n"
     ]
    }
   ],
   "source": [
    "runner = cuml.benchmark.runners.SpeedupComparisonRunner(\n",
    "    bench_rows=SMALL_ROW_SIZES, \n",
    "    bench_dims=SKINNY_FEATURES,\n",
    "    dataset_name=DATA_REGRESSION,\n",
    "    input_type=INPUT_TYPE,\n",
    "    n_reps=N_REPS\n",
    ")\n",
    "\n",
    "execute_benchmark(\"Ridge\", runner)"
   ]
  },
  {
   "cell_type": "markdown",
   "metadata": {},
   "source": [
    "### Lasso Regression<a id=\"lasso_regression\"/>"
   ]
  },
  {
   "cell_type": "code",
   "execution_count": 22,
   "metadata": {},
   "outputs": [
    {
     "name": "stdout",
     "output_type": "stream",
     "text": [
      "Failed to run with 16384 samples, 32 features: __init__() got an unexpected keyword argument 'verbose'\n",
      "Failed to run with 16384 samples, 256 features: __init__() got an unexpected keyword argument 'verbose'\n",
      "Failed to run with 32768 samples, 32 features: __init__() got an unexpected keyword argument 'verbose'\n",
      "Failed to run with 32768 samples, 256 features: __init__() got an unexpected keyword argument 'verbose'\n",
      "Failed to run with 65536 samples, 32 features: __init__() got an unexpected keyword argument 'verbose'\n",
      "Failed to run with 65536 samples, 256 features: __init__() got an unexpected keyword argument 'verbose'\n"
     ]
    }
   ],
   "source": [
    "runner = cuml.benchmark.runners.SpeedupComparisonRunner(\n",
    "    bench_rows=SMALL_ROW_SIZES, \n",
    "    bench_dims=SKINNY_FEATURES,\n",
    "    dataset_name=DATA_REGRESSION,\n",
    "    input_type=INPUT_TYPE,\n",
    "    n_reps=N_REPS\n",
    ")\n",
    "\n",
    "execute_benchmark(\"Lasso\", runner)"
   ]
  },
  {
   "cell_type": "markdown",
   "metadata": {},
   "source": [
    "### ElasticNet Regression<a id=\"elasticnet_regression\"/>"
   ]
  },
  {
   "cell_type": "code",
   "execution_count": 23,
   "metadata": {},
   "outputs": [
    {
     "name": "stdout",
     "output_type": "stream",
     "text": [
      "Failed to run with 16384 samples, 32 features: __init__() got an unexpected keyword argument 'verbose'\n",
      "Failed to run with 16384 samples, 256 features: __init__() got an unexpected keyword argument 'verbose'\n",
      "Failed to run with 32768 samples, 32 features: __init__() got an unexpected keyword argument 'verbose'\n",
      "Failed to run with 32768 samples, 256 features: __init__() got an unexpected keyword argument 'verbose'\n",
      "Failed to run with 65536 samples, 32 features: __init__() got an unexpected keyword argument 'verbose'\n",
      "Failed to run with 65536 samples, 256 features: __init__() got an unexpected keyword argument 'verbose'\n"
     ]
    }
   ],
   "source": [
    "runner = cuml.benchmark.runners.SpeedupComparisonRunner(\n",
    "    bench_rows=SMALL_ROW_SIZES, \n",
    "    bench_dims=SKINNY_FEATURES,\n",
    "    dataset_name=DATA_REGRESSION,\n",
    "    input_type=INPUT_TYPE,\n",
    "    n_reps=N_REPS\n",
    ")\n",
    "\n",
    "execute_benchmark(\"ElasticNet\", runner)"
   ]
  },
  {
   "cell_type": "markdown",
   "metadata": {},
   "source": [
    "### Mini-batch SGD Classifier<a id=\"minibatch_sgd_classifier\"/>"
   ]
  },
  {
   "cell_type": "code",
   "execution_count": 24,
   "metadata": {},
   "outputs": [
    {
     "name": "stdout",
     "output_type": "stream",
     "text": [
      "MBSGDClassifier (n_samples=16384, n_features=32) [cpu=0.0, gpu=8.349909543991089, speedup=0.0]\n",
      "MBSGDClassifier (n_samples=16384, n_features=256) [cpu=0.0, gpu=24.5514874458313, speedup=0.0]\n",
      "MBSGDClassifier (n_samples=32768, n_features=32) [cpu=0.0, gpu=23.934333324432373, speedup=0.0]\n",
      "MBSGDClassifier (n_samples=32768, n_features=256) [cpu=0.0, gpu=32.047823429107666, speedup=0.0]\n",
      "MBSGDClassifier (n_samples=65536, n_features=32) [cpu=0.0, gpu=60.38178467750549, speedup=0.0]\n",
      "MBSGDClassifier (n_samples=65536, n_features=256) [cpu=0.0, gpu=99.24433851242065, speedup=0.0]\n"
     ]
    }
   ],
   "source": [
    "runner = cuml.benchmark.runners.SpeedupComparisonRunner(\n",
    "    bench_rows=SMALL_ROW_SIZES, \n",
    "    bench_dims=SKINNY_FEATURES,\n",
    "    dataset_name=DATA_CLASSIFICATION,\n",
    "    input_type=INPUT_TYPE,\n",
    "    n_reps=N_REPS\n",
    ")\n",
    "\n",
    "execute_benchmark(\"MBSGDClassifier\", runner)"
   ]
  },
  {
   "cell_type": "markdown",
   "metadata": {},
   "source": [
    "## Decomposition<a id=\"decomposition\"/>"
   ]
  },
  {
   "cell_type": "markdown",
   "metadata": {},
   "source": [
    "### PCA<a id=\"pca\"/>"
   ]
  },
  {
   "cell_type": "code",
   "execution_count": 25,
   "metadata": {},
   "outputs": [
    {
     "name": "stdout",
     "output_type": "stream",
     "text": [
      "PCA (n_samples=16384, n_features=1000) [cpu=0.0, gpu=0.07741570472717285, speedup=0.0]\n",
      "PCA (n_samples=16384, n_features=10000) [cpu=0.0, gpu=2.9486289024353027, speedup=0.0]\n",
      "PCA (n_samples=32768, n_features=1000) [cpu=0.0, gpu=0.0839076042175293, speedup=0.0]\n",
      "PCA (n_samples=32768, n_features=10000) [cpu=0.0, gpu=3.4262325763702393, speedup=0.0]\n",
      "PCA (n_samples=65536, n_features=1000) [cpu=0.0, gpu=0.16991472244262695, speedup=0.0]\n",
      "PCA (n_samples=65536, n_features=10000) [cpu=0.0, gpu=4.30645751953125, speedup=0.0]\n"
     ]
    }
   ],
   "source": [
    "runner = cuml.benchmark.runners.SpeedupComparisonRunner(\n",
    "    bench_rows=SMALL_ROW_SIZES, \n",
    "    bench_dims=WIDE_FEATURES,\n",
    "    dataset_name=DATA_NEIGHBORHOODS,\n",
    "    input_type=INPUT_TYPE,\n",
    "    n_reps=N_REPS\n",
    ")\n",
    "\n",
    "execute_benchmark(\"PCA\", runner)"
   ]
  },
  {
   "cell_type": "markdown",
   "metadata": {},
   "source": [
    "### Truncated SVD<a id=\"truncated_svd\"/>"
   ]
  },
  {
   "cell_type": "code",
   "execution_count": 26,
   "metadata": {},
   "outputs": [
    {
     "name": "stdout",
     "output_type": "stream",
     "text": [
      "tSVD (n_samples=16384, n_features=1000) [cpu=0.0, gpu=0.07708501815795898, speedup=0.0]\n",
      "tSVD (n_samples=16384, n_features=10000) [cpu=0.0, gpu=2.9568276405334473, speedup=0.0]\n",
      "tSVD (n_samples=32768, n_features=1000) [cpu=0.0, gpu=0.0829010009765625, speedup=0.0]\n",
      "tSVD (n_samples=32768, n_features=10000) [cpu=0.0, gpu=3.4160289764404297, speedup=0.0]\n",
      "tSVD (n_samples=65536, n_features=1000) [cpu=0.0, gpu=0.11283588409423828, speedup=0.0]\n",
      "tSVD (n_samples=65536, n_features=10000) [cpu=0.0, gpu=4.25073504447937, speedup=0.0]\n"
     ]
    }
   ],
   "source": [
    "runner = cuml.benchmark.runners.SpeedupComparisonRunner(\n",
    "    bench_rows=SMALL_ROW_SIZES, \n",
    "    bench_dims=WIDE_FEATURES,\n",
    "    dataset_name=DATA_NEIGHBORHOODS,\n",
    "    input_type=INPUT_TYPE,\n",
    "    n_reps=N_REPS\n",
    ")\n",
    "\n",
    "execute_benchmark(\"TSVD\", runner)"
   ]
  },
  {
   "cell_type": "markdown",
   "metadata": {},
   "source": [
    "## Ensemble<a id=\"ensemble\"/>"
   ]
  },
  {
   "cell_type": "markdown",
   "metadata": {},
   "source": [
    "### Random Forest Classifier<a id=\"random_forest_classifier\"/>"
   ]
  },
  {
   "cell_type": "code",
   "execution_count": 27,
   "metadata": {},
   "outputs": [
    {
     "name": "stdout",
     "output_type": "stream",
     "text": [
      "RandomForestClassifier (n_samples=16384, n_features=32) [cpu=0.0, gpu=0.28143739700317383, speedup=0.0]\n",
      "RandomForestClassifier (n_samples=16384, n_features=256) [cpu=0.0, gpu=1.6760268211364746, speedup=0.0]\n",
      "RandomForestClassifier (n_samples=32768, n_features=32) [cpu=0.0, gpu=0.38943982124328613, speedup=0.0]\n",
      "RandomForestClassifier (n_samples=32768, n_features=256) [cpu=0.0, gpu=2.43383526802063, speedup=0.0]\n",
      "RandomForestClassifier (n_samples=65536, n_features=32) [cpu=0.0, gpu=0.48328518867492676, speedup=0.0]\n",
      "RandomForestClassifier (n_samples=65536, n_features=256) [cpu=0.0, gpu=3.2108466625213623, speedup=0.0]\n"
     ]
    }
   ],
   "source": [
    "runner = cuml.benchmark.runners.SpeedupComparisonRunner(\n",
    "    bench_rows=SMALL_ROW_SIZES, \n",
    "    bench_dims=SKINNY_FEATURES,\n",
    "    dataset_name=DATA_CLASSIFICATION,\n",
    "    input_type=INPUT_TYPE,\n",
    "    n_reps=N_REPS\n",
    ")\n",
    "\n",
    "execute_benchmark(\"RandomForestClassifier\", runner)"
   ]
  },
  {
   "cell_type": "markdown",
   "metadata": {},
   "source": [
    "### Random Forest Regressor<a id=\"random_forest_regressor\"/>"
   ]
  },
  {
   "cell_type": "code",
   "execution_count": 28,
   "metadata": {},
   "outputs": [
    {
     "name": "stdout",
     "output_type": "stream",
     "text": [
      "RandomForestRegressor (n_samples=16384, n_features=32) [cpu=0.0, gpu=0.4518716335296631, speedup=0.0]\n",
      "RandomForestRegressor (n_samples=16384, n_features=256) [cpu=0.0, gpu=2.5335938930511475, speedup=0.0]\n",
      "RandomForestRegressor (n_samples=32768, n_features=32) [cpu=0.0, gpu=0.4387378692626953, speedup=0.0]\n",
      "RandomForestRegressor (n_samples=32768, n_features=256) [cpu=0.0, gpu=3.082155227661133, speedup=0.0]\n",
      "RandomForestRegressor (n_samples=65536, n_features=32) [cpu=0.0, gpu=0.4470651149749756, speedup=0.0]\n",
      "RandomForestRegressor (n_samples=65536, n_features=256) [cpu=0.0, gpu=3.537482261657715, speedup=0.0]\n"
     ]
    }
   ],
   "source": [
    "runner = cuml.benchmark.runners.SpeedupComparisonRunner(\n",
    "    bench_rows=SMALL_ROW_SIZES, \n",
    "    bench_dims=SKINNY_FEATURES,\n",
    "    dataset_name=DATA_REGRESSION,\n",
    "    input_type=INPUT_TYPE,\n",
    "    n_reps=N_REPS\n",
    ")\n",
    "\n",
    "execute_benchmark(\"RandomForestRegressor\", runner)"
   ]
  },
  {
   "cell_type": "markdown",
   "metadata": {},
   "source": [
    "### FIL<a id=\"fil\"/>\n",
    "CPU benchmark requires XGBoost Library"
   ]
  },
  {
   "cell_type": "code",
   "execution_count": 29,
   "metadata": {},
   "outputs": [
    {
     "name": "stdout",
     "output_type": "stream",
     "text": [
      "Failed to run with 16384 samples, 32 features: No XGBoost package found\n",
      "Failed to run with 16384 samples, 256 features: No XGBoost package found\n",
      "Failed to run with 32768 samples, 32 features: No XGBoost package found\n",
      "Failed to run with 32768 samples, 256 features: No XGBoost package found\n",
      "Failed to run with 65536 samples, 32 features: No XGBoost package found\n",
      "Failed to run with 65536 samples, 256 features: No XGBoost package found\n"
     ]
    }
   ],
   "source": [
    "runner = cuml.benchmark.runners.SpeedupComparisonRunner(\n",
    "    bench_rows=SMALL_ROW_SIZES, \n",
    "    bench_dims=SKINNY_FEATURES,\n",
    "    dataset_name=DATA_CLASSIFICATION,\n",
    "    input_type=INPUT_TYPE,\n",
    "    n_reps=N_REPS\n",
    ")\n",
    "\n",
    "execute_benchmark(\"FIL\", runner)"
   ]
  },
  {
   "cell_type": "markdown",
   "metadata": {},
   "source": [
    "## Sparse FIL<a id=\"sparse_fil\"/>\n",
    "Requires TreeLite library"
   ]
  },
  {
   "cell_type": "code",
   "execution_count": 30,
   "metadata": {},
   "outputs": [
    {
     "name": "stderr",
     "output_type": "stream",
     "text": [
      "[Parallel(n_jobs=-1)]: Using backend ThreadingBackend with 32 concurrent workers.\n",
      "[Parallel(n_jobs=-1)]: Done 100 out of 100 | elapsed:    0.4s finished\n",
      "[Parallel(n_jobs=-1)]: Using backend ThreadingBackend with 32 concurrent workers.\n"
     ]
    },
    {
     "name": "stdout",
     "output_type": "stream",
     "text": [
      "Failed to run with 16384 samples, 32 features: 'fil_algo'\n"
     ]
    },
    {
     "name": "stderr",
     "output_type": "stream",
     "text": [
      "[Parallel(n_jobs=-1)]: Done 100 out of 100 | elapsed:    1.8s finished\n",
      "[Parallel(n_jobs=-1)]: Using backend ThreadingBackend with 32 concurrent workers.\n"
     ]
    },
    {
     "name": "stdout",
     "output_type": "stream",
     "text": [
      "Failed to run with 16384 samples, 256 features: 'fil_algo'\n"
     ]
    },
    {
     "name": "stderr",
     "output_type": "stream",
     "text": [
      "[Parallel(n_jobs=-1)]: Done 100 out of 100 | elapsed:    1.0s finished\n",
      "[Parallel(n_jobs=-1)]: Using backend ThreadingBackend with 32 concurrent workers.\n"
     ]
    },
    {
     "name": "stdout",
     "output_type": "stream",
     "text": [
      "Failed to run with 32768 samples, 32 features: 'fil_algo'\n"
     ]
    },
    {
     "name": "stderr",
     "output_type": "stream",
     "text": [
      "[Parallel(n_jobs=-1)]: Done 100 out of 100 | elapsed:    4.2s finished\n",
      "[Parallel(n_jobs=-1)]: Using backend ThreadingBackend with 32 concurrent workers.\n"
     ]
    },
    {
     "name": "stdout",
     "output_type": "stream",
     "text": [
      "Failed to run with 32768 samples, 256 features: 'fil_algo'\n"
     ]
    },
    {
     "name": "stderr",
     "output_type": "stream",
     "text": [
      "[Parallel(n_jobs=-1)]: Done 100 out of 100 | elapsed:    2.0s finished\n",
      "[Parallel(n_jobs=-1)]: Using backend ThreadingBackend with 32 concurrent workers.\n"
     ]
    },
    {
     "name": "stdout",
     "output_type": "stream",
     "text": [
      "Failed to run with 65536 samples, 32 features: 'fil_algo'\n",
      "Failed to run with 65536 samples, 256 features: 'fil_algo'\n"
     ]
    },
    {
     "name": "stderr",
     "output_type": "stream",
     "text": [
      "[Parallel(n_jobs=-1)]: Done 100 out of 100 | elapsed:    8.5s finished\n"
     ]
    }
   ],
   "source": [
    "runner = cuml.benchmark.runners.SpeedupComparisonRunner(\n",
    "    bench_rows=SMALL_ROW_SIZES, \n",
    "    bench_dims=SKINNY_FEATURES,\n",
    "    dataset_name=DATA_CLASSIFICATION,\n",
    "    input_type=INPUT_TYPE,\n",
    "    n_reps=N_REPS\n",
    ")\n",
    "\n",
    "execute_benchmark(\"Sparse-FIL-SKL\", runner)"
   ]
  },
  {
   "cell_type": "markdown",
   "metadata": {},
   "source": [
    "## Random Projection<a id=\"random_projection\"/>"
   ]
  },
  {
   "cell_type": "markdown",
   "metadata": {},
   "source": [
    "### Gaussian Random Projection<a id=\"gaussian_random_projection\"/>"
   ]
  },
  {
   "cell_type": "code",
   "execution_count": null,
   "metadata": {},
   "outputs": [],
   "source": [
    "runner = cuml.benchmark.runners.SpeedupComparisonRunner(\n",
    "    bench_rows=SMALL_ROW_SIZES,\n",
    "    bench_dims=SKINNY_FEATURES,\n",
    "    dataset_name=DATA_NEIGHBORHOODS,\n",
    "    input_type=INPUT_TYPE,\n",
    "    n_reps=N_REPS\n",
    ")\n",
    "\n",
    "execute_benchmark(\"GaussianRandomProjection\", runner, verbose=True)"
   ]
  },
  {
   "cell_type": "markdown",
   "metadata": {},
   "source": [
    "### Sparse Random Projection<a id=\"sparse_random_projection\"/>"
   ]
  },
  {
   "cell_type": "code",
   "execution_count": null,
   "metadata": {},
   "outputs": [],
   "source": [
    "runner = cuml.benchmark.runners.SpeedupComparisonRunner(\n",
    "    bench_rows=SMALL_ROW_SIZES,\n",
    "    bench_dims=WIDE_FEATURES,\n",
    "    dataset_name=DATA_NEIGHBORHOODS,\n",
    "    input_type=INPUT_TYPE,\n",
    "    n_reps=N_REPS\n",
    ")\n",
    "\n",
    "execute_benchmark(\"SparseRandomProjection\", runner)"
   ]
  },
  {
   "cell_type": "markdown",
   "metadata": {},
   "source": [
    "## SVM<a id=\"svm\"/>"
   ]
  },
  {
   "cell_type": "markdown",
   "metadata": {},
   "source": [
    "### SVC - Linear Kernel<a id=\"svc_linear_kernel\"/>"
   ]
  },
  {
   "cell_type": "code",
   "execution_count": null,
   "metadata": {},
   "outputs": [],
   "source": [
    "runner = cuml.benchmark.runners.SpeedupComparisonRunner(\n",
    "    bench_rows=SMALL_ROW_SIZES, \n",
    "    bench_dims=SKINNY_FEATURES,\n",
    "    dataset_name=DATA_CLASSIFICATION,\n",
    "    input_type=INPUT_TYPE,\n",
    "    n_reps=N_REPS\n",
    ")\n",
    "\n",
    "# Due to extreme high runtime, the CPU benchmark \n",
    "# is disabled. Use run_cpu=True to re-enable. \n",
    "\n",
    "execute_benchmark(\"SVC-Linear\", runner, run_cpu=False)"
   ]
  },
  {
   "cell_type": "markdown",
   "metadata": {},
   "source": [
    "### SVC - RBF Kernel<a id=\"svc_rbf_kernel\"/>"
   ]
  },
  {
   "cell_type": "code",
   "execution_count": null,
   "metadata": {},
   "outputs": [],
   "source": [
    "runner = cuml.benchmark.runners.SpeedupComparisonRunner(\n",
    "    bench_rows=SMALL_ROW_SIZES, \n",
    "    bench_dims=SKINNY_FEATURES,\n",
    "    dataset_name=DATA_CLASSIFICATION,\n",
    "    input_type=INPUT_TYPE,\n",
    "    n_reps=N_REPS\n",
    ")\n",
    "\n",
    "# Due to extreme high runtime, the CPU benchmark \n",
    "# is disabled. Use run_cpu=True to re-enable. \n",
    "\n",
    "execute_benchmark(\"SVC-RBF\", runner, run_cpu=False)"
   ]
  },
  {
   "cell_type": "markdown",
   "metadata": {},
   "source": [
    "### SVR - Linear Kernel<a id=\"svr_linear_kernel\"/>"
   ]
  },
  {
   "cell_type": "code",
   "execution_count": null,
   "metadata": {},
   "outputs": [],
   "source": [
    "runner = cuml.benchmark.runners.SpeedupComparisonRunner(\n",
    "    bench_rows=SMALL_ROW_SIZES, \n",
    "    bench_dims=SKINNY_FEATURES,\n",
    "    dataset_name=DATA_REGRESSION,\n",
    "    input_type=INPUT_TYPE,\n",
    "    n_reps=N_REPS\n",
    ")\n",
    "\n",
    "# Due to extreme high runtime, the CPU benchmark \n",
    "# is disabled. Use run_cpu=True to re-enable. \n",
    "\n",
    "execute_benchmark(\"SVR-Linear\", runner, run_cpu=False)"
   ]
  },
  {
   "cell_type": "markdown",
   "metadata": {},
   "source": [
    "### SVR - RBF Kernel<a id=\"svr_rbf_kernel\"/>"
   ]
  },
  {
   "cell_type": "code",
   "execution_count": null,
   "metadata": {},
   "outputs": [],
   "source": [
    "runner = cuml.benchmark.runners.SpeedupComparisonRunner(\n",
    "    bench_rows=SMALL_ROW_SIZES, \n",
    "    bench_dims=SKINNY_FEATURES,\n",
    "    dataset_name=DATA_REGRESSION,\n",
    "    input_type=INPUT_TYPE,\n",
    "    n_reps=N_REPS\n",
    ")\n",
    "\n",
    "execute_benchmark(\"SVR-RBF\", runner)"
   ]
  },
  {
   "cell_type": "markdown",
   "metadata": {},
   "source": [
    "## Charting & Storing Results<a id=\"charting_and_storing_results\"/>"
   ]
  },
  {
   "cell_type": "markdown",
   "metadata": {},
   "source": [
    "### Convert Results to Pandas DataFrame<a id=\"convert_to_pandas\"/>"
   ]
  },
  {
   "cell_type": "code",
   "execution_count": null,
   "metadata": {},
   "outputs": [],
   "source": [
    "%matplotlib inline"
   ]
  },
  {
   "cell_type": "code",
   "execution_count": null,
   "metadata": {},
   "outputs": [],
   "source": [
    "df = pd.DataFrame(benchmark_results)"
   ]
  },
  {
   "cell_type": "markdown",
   "metadata": {},
   "source": [
    "### Chart Results<a id=\"chart_results\"/>"
   ]
  },
  {
   "cell_type": "code",
   "execution_count": null,
   "metadata": {},
   "outputs": [],
   "source": [
    "def chart_single_algo_speedup(df, algorithm):\n",
    "    df = df.loc[df.algo == algorithm]\n",
    "    df = df.pivot(index=\"n_samples\", columns=\"n_features\", values=\"speedup\")\n",
    "    axes = df.plot.bar(title=\"%s Speedup\" % algorithm)"
   ]
  },
  {
   "cell_type": "code",
   "execution_count": null,
   "metadata": {},
   "outputs": [],
   "source": [
    "def chart_all_algo_speedup(df):\n",
    "    df = df[[\"algo\", \"n_samples\", \"speedup\"]].groupby([\"algo\", \"n_samples\"]).mean()\n",
    "    df.plot.bar()"
   ]
  },
  {
   "cell_type": "code",
   "execution_count": null,
   "metadata": {},
   "outputs": [],
   "source": [
    "chart_single_algo_speedup(df, \"LinearRegression\")"
   ]
  },
  {
   "cell_type": "code",
   "execution_count": null,
   "metadata": {},
   "outputs": [],
   "source": [
    "chart_all_algo_speedup(df)"
   ]
  },
  {
   "cell_type": "markdown",
   "metadata": {},
   "source": [
    "### Output Results to CSV<a id=\"output_csv\"/>"
   ]
  },
  {
   "cell_type": "code",
   "execution_count": null,
   "metadata": {},
   "outputs": [],
   "source": [
    "df.to_csv(\"benchmark_results.csv\")"
   ]
  }
 ],
 "metadata": {
  "kernelspec": {
   "display_name": "Python 3",
   "language": "python",
   "name": "python3"
  },
  "language_info": {
   "codemirror_mode": {
    "name": "ipython",
    "version": 3
   },
   "file_extension": ".py",
   "mimetype": "text/x-python",
   "name": "python",
   "nbconvert_exporter": "python",
   "pygments_lexer": "ipython3",
   "version": "3.7.6"
  }
 },
 "nbformat": 4,
 "nbformat_minor": 4
}
