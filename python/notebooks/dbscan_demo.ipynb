{
 "cells": [
  {
   "cell_type": "code",
   "execution_count": 1,
   "metadata": {},
   "outputs": [],
   "source": [
    "import numpy as np\n",
    "import pandas as pd\n",
    "from sklearn.cluster import DBSCAN as skDBSCAN\n",
    "from cuml import DBSCAN as cumlDBSCAN\n",
    "import cudf\n",
    "import os"
   ]
  },
  {
   "cell_type": "markdown",
   "metadata": {},
   "source": [
    "# Helper Functions"
   ]
  },
  {
   "cell_type": "code",
   "execution_count": 2,
   "metadata": {},
   "outputs": [],
   "source": [
    "from timeit import default_timer\n",
    "\n",
    "class Timer(object):\n",
    "    def __init__(self):\n",
    "        self._timer = default_timer\n",
    "    \n",
    "    def __enter__(self):\n",
    "        self.start()\n",
    "        return self\n",
    "\n",
    "    def __exit__(self, *args):\n",
    "        self.stop()\n",
    "\n",
    "    def start(self):\n",
    "        \"\"\"Start the timer.\"\"\"\n",
    "        self.start = self._timer()\n",
    "\n",
    "    def stop(self):\n",
    "        \"\"\"Stop the timer. Calculate the interval in seconds.\"\"\"\n",
    "        self.end = self._timer()\n",
    "        self.interval = self.end - self.start"
   ]
  },
  {
   "cell_type": "code",
   "execution_count": 3,
   "metadata": {},
   "outputs": [],
   "source": [
    "import gzip\n",
    "def load_data(nrows, ncols, cached = 'data/mortgage.npy.gz'):\n",
    "    if os.path.exists(cached):\n",
    "        print('use mortgage data')\n",
    "        with gzip.open(cached) as f:\n",
    "            X = np.load(f)\n",
    "        X = X[np.random.randint(0,X.shape[0]-1,nrows),:ncols]\n",
    "    else:\n",
    "        print('use random data')\n",
    "        X = np.random.rand(nrows,ncols)\n",
    "    df = pd.DataFrame({'fea%d'%i:X[:,i] for i in range(X.shape[1])})\n",
    "    return df"
   ]
  },
  {
   "cell_type": "code",
   "execution_count": 4,
   "metadata": {},
   "outputs": [],
   "source": [
    "from sklearn.metrics import mean_squared_error\n",
    "def array_equal(a,b,threshold=5e-3,with_sign=True):\n",
    "    a = to_nparray(a)\n",
    "    b = to_nparray(b)\n",
    "    if with_sign == False:\n",
    "        a,b = np.abs(a),np.abs(b)\n",
    "    res = mean_squared_error(a,b)<threshold\n",
    "    return res\n",
    "\n",
    "def to_nparray(x):\n",
    "    if isinstance(x,np.ndarray) or isinstance(x,pd.DataFrame):\n",
    "        return np.array(x)\n",
    "    elif isinstance(x,np.float64):\n",
    "        return np.array([x])\n",
    "    elif isinstance(x,cudf.DataFrame) or isinstance(x,cudf.Series):\n",
    "        return x.to_pandas().values\n",
    "    return x"
   ]
  },
  {
   "cell_type": "markdown",
   "metadata": {},
   "source": [
    "# Run tests"
   ]
  },
  {
   "cell_type": "code",
   "execution_count": 5,
   "metadata": {},
   "outputs": [
    {
     "name": "stdout",
     "output_type": "stream",
     "text": [
      "use mortgage data\n",
      "data (5000, 128)\n",
      "CPU times: user 6.44 s, sys: 177 ms, total: 6.62 s\n",
      "Wall time: 6.63 s\n"
     ]
    }
   ],
   "source": [
    "%%time\n",
    "nrows = 5000\n",
    "ncols = 128\n",
    "\n",
    "X = load_data(nrows,ncols)\n",
    "print('data',X.shape)"
   ]
  },
  {
   "cell_type": "code",
   "execution_count": 7,
   "metadata": {},
   "outputs": [],
   "source": [
    "eps = .3\n",
    "min_samples = 4"
   ]
  },
  {
   "cell_type": "code",
   "execution_count": 8,
   "metadata": {},
   "outputs": [
    {
     "name": "stdout",
     "output_type": "stream",
     "text": [
      "CPU times: user 4.02 s, sys: 21.1 ms, total: 4.05 s\n",
      "Wall time: 4.04 s\n"
     ]
    }
   ],
   "source": [
    "%%time\n",
    "clustering_sk = skDBSCAN(eps = eps, min_samples = min_samples)\n",
    "clustering_sk.fit(X)"
   ]
  },
  {
   "cell_type": "code",
   "execution_count": 9,
   "metadata": {},
   "outputs": [],
   "source": [
    "X = cudf.DataFrame.from_pandas(X)"
   ]
  },
  {
   "cell_type": "code",
   "execution_count": 10,
   "metadata": {},
   "outputs": [
    {
     "ename": "NameError",
     "evalue": "name 'clustering_cuml' is not defined",
     "output_type": "error",
     "traceback": [
      "\u001b[0;31m---------------------------------------------------------------------------\u001b[0m",
      "\u001b[0;31mNameError\u001b[0m                                 Traceback (most recent call last)",
      "\u001b[0;32m<ipython-input-10-a8a2828b9f67>\u001b[0m in \u001b[0;36m<module>\u001b[0;34m()\u001b[0m\n\u001b[0;32m----> 1\u001b[0;31m \u001b[0mpassed\u001b[0m \u001b[0;34m=\u001b[0m \u001b[0marray_equal\u001b[0m\u001b[0;34m(\u001b[0m\u001b[0mclustering_sk\u001b[0m\u001b[0;34m.\u001b[0m\u001b[0mlabels_\u001b[0m\u001b[0;34m,\u001b[0m\u001b[0mclustering_cuml\u001b[0m\u001b[0;34m.\u001b[0m\u001b[0mlabels_\u001b[0m\u001b[0;34m)\u001b[0m\u001b[0;34m\u001b[0m\u001b[0m\n\u001b[0m\u001b[1;32m      2\u001b[0m \u001b[0mmessage\u001b[0m \u001b[0;34m=\u001b[0m \u001b[0;34m'compare dbscan: cuml vs sklearn labels_ %s'\u001b[0m\u001b[0;34m%\u001b[0m\u001b[0;34m(\u001b[0m\u001b[0;34m'equal'\u001b[0m\u001b[0;32mif\u001b[0m \u001b[0mpassed\u001b[0m \u001b[0;32melse\u001b[0m \u001b[0;34m'NOT equal'\u001b[0m\u001b[0;34m)\u001b[0m\u001b[0;34m\u001b[0m\u001b[0m\n\u001b[1;32m      3\u001b[0m \u001b[0mprint\u001b[0m\u001b[0;34m(\u001b[0m\u001b[0mmessage\u001b[0m\u001b[0;34m)\u001b[0m\u001b[0;34m\u001b[0m\u001b[0m\n",
      "\u001b[0;31mNameError\u001b[0m: name 'clustering_cuml' is not defined"
     ]
    }
   ],
   "source": [
    "passed = array_equal(clustering_sk.labels_,clustering_cuml.labels_)\n",
    "message = 'compare dbscan: cuml vs sklearn labels_ %s'%('equal'if passed else 'NOT equal')\n",
    "print(message)"
   ]
  },
  {
   "cell_type": "code",
   "execution_count": 11,
   "metadata": {},
   "outputs": [],
   "source": [
    "import numpy as np\n",
    "import pandas as pd\n",
    "import cudf\n",
    "import numba\n",
    "from librmm_cffi import librmm as rmm\n",
    "from numba.cuda.cudadrv.driver import driver\n",
    "import math\n",
    "from numba import cuda\n",
    "\n",
    "def row_matrix(df):\n",
    "    # matrix = rmm.device_array(shape=(nrow, ncol), dtype=dtype, order='C')\n",
    "    # for colidx, col in enumerate(cols):\n",
    "    #     gpu_row_matrix.forall(matrix[:, colidx].size)(matrix[:, colidx],\n",
    "    #                                                   col.to_gpu_array(),\n",
    "    #                                                   nrow, ncol)\n",
    "    \"\"\"Compute the C (row major) version gpu matrix of df\n",
    "\n",
    "    This implements the algorithm documented in\n",
    "    http://devblogs.nvidia.com/parallelforall/efficient-matrix-transpose-cuda-cc/\n",
    "\n",
    "    :param a: an `np.ndarray` or a `DeviceNDArrayBase` subclass. If already on\n",
    "        the device its stream will be used to perform the transpose (and to copy\n",
    "        `b` to the device if necessary).\n",
    "\n",
    "    Adapted from numba:\n",
    "    https://github.com/numba/numba/blob/master/numba/cuda/kernels/transpose.py\n",
    "    \"\"\"\n",
    "\n",
    "    print(\"STARTING\")\n",
    "\n",
    "    cols = [df._cols[k] for k in df._cols]\n",
    "    ncol = len(cols)\n",
    "    nrow = len(df)\n",
    "    dtype = cols[0].dtype\n",
    "\n",
    "    a = df.as_gpu_matrix(order='F')\n",
    "    b = rmm.device_array((nrow, ncol), dtype=dtype, order='C')\n",
    "    dtype = numba.typeof(a)\n",
    "\n",
    "    tpb = driver.get_device().MAX_THREADS_PER_BLOCK\n",
    "\n",
    "    tile_width = int(math.pow(2, math.log(tpb, 2) / 2))\n",
    "    tile_height = int(tpb / tile_width)\n",
    "\n",
    "    tile_shape = (tile_height, tile_width + 1)\n",
    "\n",
    "    @cuda.jit\n",
    "    def kernel(input, output):\n",
    "\n",
    "        tile = cuda.shared.array(shape=tile_shape, dtype=numba.float32)\n",
    "\n",
    "        tx = cuda.threadIdx.x\n",
    "        ty = cuda.threadIdx.y\n",
    "        bx = cuda.blockIdx.x * cuda.blockDim.x\n",
    "        by = cuda.blockIdx.y * cuda.blockDim.y\n",
    "        y = by + tx\n",
    "        x = bx + ty\n",
    "\n",
    "        if by + ty < input.shape[0] and bx + tx < input.shape[1]:\n",
    "            tile[ty, tx] = input[by + ty, bx + tx]\n",
    "        cuda.syncthreads()\n",
    "        if y < output.shape[0] and x < output.shape[1]:\n",
    "            output[y, x] = tile[tx, ty]\n",
    "\n",
    "    # one block per tile, plus one for remainders\n",
    "    blocks = int(b.shape[1] / tile_height + 1), int(b.shape[0] / tile_width + 1)\n",
    "    # one thread per tile element\n",
    "    threads = tile_height, tile_width\n",
    "    kernel[blocks, threads](a, b)\n",
    "\n",
    "    print(\"ANSWER: \" + str(b.device_ctypes_pointer))\n",
    "\n",
    "    return b\n"
   ]
  },
  {
   "cell_type": "code",
   "execution_count": 12,
   "metadata": {},
   "outputs": [
    {
     "name": "stdout",
     "output_type": "stream",
     "text": [
      "STARTING\n",
      "ANSWER: c_ulong(139844997087232)\n",
      "n_rows: 5000\n",
      "0x7f303308be00\n",
      "CPU times: user 231 ms, sys: 23.1 ms, total: 254 ms\n",
      "Wall time: 248 ms\n"
     ]
    }
   ],
   "source": [
    "%%time\n",
    "clustering_cuml = cumlDBSCAN(eps = eps, min_samples = min_samples)\n",
    "clustering_cuml.fit(X, row_matrix)"
   ]
  },
  {
   "cell_type": "code",
   "execution_count": null,
   "metadata": {},
   "outputs": [],
   "source": []
  }
 ],
 "metadata": {
  "kernelspec": {
   "display_name": "Python [conda env:cuml]",
   "language": "python",
   "name": "conda-env-cuml-py"
  },
  "language_info": {
   "codemirror_mode": {
    "name": "ipython",
    "version": 3
   },
   "file_extension": ".py",
   "mimetype": "text/x-python",
   "name": "python",
   "nbconvert_exporter": "python",
   "pygments_lexer": "ipython3",
   "version": "3.5.6"
  }
 },
 "nbformat": 4,
 "nbformat_minor": 2
}
