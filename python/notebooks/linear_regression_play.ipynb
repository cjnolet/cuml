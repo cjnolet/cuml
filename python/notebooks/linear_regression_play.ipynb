{
 "cells": [
  {
   "cell_type": "code",
   "execution_count": 2,
   "metadata": {},
   "outputs": [],
   "source": [
    "from sklearn.datasets import load_boston"
   ]
  },
  {
   "cell_type": "code",
   "execution_count": 3,
   "metadata": {},
   "outputs": [
    {
     "name": "stdout",
     "output_type": "stream",
     "text": [
      ".. _boston_dataset:\n",
      "\n",
      "Boston house prices dataset\n",
      "---------------------------\n",
      "\n",
      "**Data Set Characteristics:**  \n",
      "\n",
      "    :Number of Instances: 506 \n",
      "\n",
      "    :Number of Attributes: 13 numeric/categorical predictive. Median Value (attribute 14) is usually the target.\n",
      "\n",
      "    :Attribute Information (in order):\n",
      "        - CRIM     per capita crime rate by town\n",
      "        - ZN       proportion of residential land zoned for lots over 25,000 sq.ft.\n",
      "        - INDUS    proportion of non-retail business acres per town\n",
      "        - CHAS     Charles River dummy variable (= 1 if tract bounds river; 0 otherwise)\n",
      "        - NOX      nitric oxides concentration (parts per 10 million)\n",
      "        - RM       average number of rooms per dwelling\n",
      "        - AGE      proportion of owner-occupied units built prior to 1940\n",
      "        - DIS      weighted distances to five Boston employment centres\n",
      "        - RAD      index of accessibility to radial highways\n",
      "        - TAX      full-value property-tax rate per $10,000\n",
      "        - PTRATIO  pupil-teacher ratio by town\n",
      "        - B        1000(Bk - 0.63)^2 where Bk is the proportion of blacks by town\n",
      "        - LSTAT    % lower status of the population\n",
      "        - MEDV     Median value of owner-occupied homes in $1000's\n",
      "\n",
      "    :Missing Attribute Values: None\n",
      "\n",
      "    :Creator: Harrison, D. and Rubinfeld, D.L.\n",
      "\n",
      "This is a copy of UCI ML housing dataset.\n",
      "https://archive.ics.uci.edu/ml/machine-learning-databases/housing/\n",
      "\n",
      "\n",
      "This dataset was taken from the StatLib library which is maintained at Carnegie Mellon University.\n",
      "\n",
      "The Boston house-price data of Harrison, D. and Rubinfeld, D.L. 'Hedonic\n",
      "prices and the demand for clean air', J. Environ. Economics & Management,\n",
      "vol.5, 81-102, 1978.   Used in Belsley, Kuh & Welsch, 'Regression diagnostics\n",
      "...', Wiley, 1980.   N.B. Various transformations are used in the table on\n",
      "pages 244-261 of the latter.\n",
      "\n",
      "The Boston house-price data has been used in many machine learning papers that address regression\n",
      "problems.   \n",
      "     \n",
      ".. topic:: References\n",
      "\n",
      "   - Belsley, Kuh & Welsch, 'Regression diagnostics: Identifying Influential Data and Sources of Collinearity', Wiley, 1980. 244-261.\n",
      "   - Quinlan,R. (1993). Combining Instance-Based and Model-Based Learning. In Proceedings on the Tenth International Conference of Machine Learning, 236-243, University of Massachusetts, Amherst. Morgan Kaufmann.\n",
      "\n",
      "['CRIM' 'ZN' 'INDUS' 'CHAS' 'NOX' 'RM' 'AGE' 'DIS' 'RAD' 'TAX' 'PTRATIO'\n",
      " 'B' 'LSTAT']\n"
     ]
    }
   ],
   "source": [
    "import cudf, pandas as pd\n",
    "boston_dataset = load_boston()\n",
    "print(boston_dataset.DESCR)\n",
    "print(str(boston_dataset.feature_names))"
   ]
  },
  {
   "cell_type": "code",
   "execution_count": 4,
   "metadata": {},
   "outputs": [],
   "source": [
    "data = boston_dataset.data\n",
    "\n",
    "d = {name:data[:,i] for i, name in zip(range(data.shape[1]), boston_dataset.feature_names)}\n",
    "\n",
    "boston = cudf.DataFrame.from_pandas(pd.DataFrame(d))"
   ]
  },
  {
   "cell_type": "code",
   "execution_count": 5,
   "metadata": {},
   "outputs": [
    {
     "name": "stdout",
     "output_type": "stream",
     "text": [
      "     AGE      B CHAS    CRIM    DIS INDUS LSTAT ...   ZN\n",
      " 0  65.2  396.9  0.0 0.00632   4.09  2.31  4.98 ... 18.0\n",
      " 1  78.9  396.9  0.0 0.02731 4.9671  7.07  9.14 ...  0.0\n",
      " 2  61.1 392.83  0.0 0.02729 4.9671  7.07  4.03 ...  0.0\n",
      " 3  45.8 394.63  0.0 0.03237 6.0622  2.18  2.94 ...  0.0\n",
      " 4  54.2  396.9  0.0 0.06905 6.0622  2.18  5.33 ...  0.0\n",
      " 5  58.7 394.12  0.0 0.02985 6.0622  2.18  5.21 ...  0.0\n",
      " 6  66.6  395.6  0.0 0.08829 5.5605  7.87 12.43 ... 12.5\n",
      " 7  96.1  396.9  0.0 0.14455 5.9505  7.87 19.15 ... 12.5\n",
      " 8 100.0 386.63  0.0 0.21124 6.0821  7.87 29.93 ... 12.5\n",
      " 9  85.9 386.71  0.0 0.17004 6.5921  7.87  17.1 ... 12.5\n",
      "[496 more rows]\n",
      "[5 more columns]\n"
     ]
    }
   ],
   "source": [
    "print(str(boston))"
   ]
  },
  {
   "cell_type": "code",
   "execution_count": 6,
   "metadata": {},
   "outputs": [],
   "source": [
    "X = boston[['LSTAT','RM']]\n",
    "Y = cudf.DataFrame({\"MEDV\": boston_dataset.target})"
   ]
  },
  {
   "cell_type": "code",
   "execution_count": 7,
   "metadata": {},
   "outputs": [],
   "source": [
    "Y = cudf.DataFrame({\"MEDV\": boston_dataset.target})"
   ]
  },
  {
   "cell_type": "code",
   "execution_count": 8,
   "metadata": {},
   "outputs": [],
   "source": [
    "from cuml import LinearRegression"
   ]
  },
  {
   "cell_type": "code",
   "execution_count": 10,
   "metadata": {},
   "outputs": [
    {
     "name": "stdout",
     "output_type": "stream",
     "text": [
      "   MEDV\n",
      " 0 24.0\n",
      " 1 21.6\n",
      " 2 34.7\n",
      " 3 33.4\n",
      " 4 36.2\n",
      " 5 28.7\n",
      " 6 22.9\n",
      " 7 27.1\n",
      " 8 16.5\n",
      " 9 18.9\n",
      "[496 more rows]\n"
     ]
    }
   ],
   "source": [
    "print(str(Y))"
   ]
  },
  {
   "cell_type": "code",
   "execution_count": 11,
   "metadata": {},
   "outputs": [],
   "source": [
    "linear_regression = LinearRegression()"
   ]
  },
  {
   "cell_type": "code",
   "execution_count": 12,
   "metadata": {},
   "outputs": [
    {
     "data": {
      "text/plain": [
       "<cuml.LinearRegression at 0x7fcd06272438>"
      ]
     },
     "execution_count": 12,
     "metadata": {},
     "output_type": "execute_result"
    }
   ],
   "source": [
    "linear_regression.fit(X, Y[\"MEDV\"])"
   ]
  },
  {
   "cell_type": "code",
   "execution_count": null,
   "metadata": {},
   "outputs": [],
   "source": []
  },
  {
   "cell_type": "code",
   "execution_count": 14,
   "metadata": {},
   "outputs": [
    {
     "data": {
      "text/plain": [
       "<cudf.Series nrows=506 >"
      ]
     },
     "execution_count": 14,
     "metadata": {},
     "output_type": "execute_result"
    }
   ],
   "source": [
    "linear_regression.predict(X)"
   ]
  },
  {
   "cell_type": "code",
   "execution_count": 15,
   "metadata": {},
   "outputs": [
    {
     "name": "stdout",
     "output_type": "stream",
     "text": [
      "                     \n",
      " 0 28.941013680602516\n",
      " 1 25.484205660559113\n",
      " 2  32.65907476857973\n",
      " 3   32.4065199998349\n",
      " 4  31.63040699065758\n",
      " 5 28.054527005997567\n",
      " 6  21.28707845530228\n",
      " 7  17.78559652667558\n",
      " 8    8.1046933839978\n",
      " 9   18.2465067305075\n",
      "[496 more rows]\n"
     ]
    }
   ],
   "source": [
    "print(str(linear_regression.predict(X)))"
   ]
  },
  {
   "cell_type": "code",
   "execution_count": 16,
   "metadata": {},
   "outputs": [
    {
     "name": "stdout",
     "output_type": "stream",
     "text": [
      "       \n",
      " 0 24.0\n",
      " 1 21.6\n",
      " 2 34.7\n",
      " 3 33.4\n",
      " 4 36.2\n",
      " 5 28.7\n",
      " 6 22.9\n",
      " 7 27.1\n",
      " 8 16.5\n",
      " 9 18.9\n",
      "[496 more rows]\n"
     ]
    }
   ],
   "source": [
    "print(str(Y[\"MEDV\"]))"
   ]
  },
  {
   "cell_type": "code",
   "execution_count": 17,
   "metadata": {},
   "outputs": [],
   "source": [
    "df = cudf.DataFrame()\n",
    "df[\"Y_hat\"] = linear_regression.predict(X)"
   ]
  },
  {
   "cell_type": "code",
   "execution_count": 18,
   "metadata": {},
   "outputs": [],
   "source": [
    "df[\"Y\"] = Y[\"MEDV\"]"
   ]
  },
  {
   "cell_type": "code",
   "execution_count": 19,
   "metadata": {},
   "outputs": [],
   "source": [
    "split_percentage = 0.75\n",
    "import math\n",
    "train_size = math.ceil(len(df) * split_percentage)"
   ]
  },
  {
   "cell_type": "code",
   "execution_count": 20,
   "metadata": {},
   "outputs": [
    {
     "data": {
      "text/plain": [
       "380"
      ]
     },
     "execution_count": 20,
     "metadata": {},
     "output_type": "execute_result"
    }
   ],
   "source": [
    "train_size"
   ]
  },
  {
   "cell_type": "code",
   "execution_count": 34,
   "metadata": {},
   "outputs": [],
   "source": [
    "X = boston[['LSTAT','RM']]\n",
    "\n",
    "Y = cudf.DataFrame({\"MEDV\": boston_dataset.target})\n",
    "\n",
    "split_percentage = 0.75\n",
    "train_size = math.ceil(len(boston) * split_percentage)\n",
    "\n",
    "X_train, Y_train = (X[:train_size], Y[:train_size])\n",
    "X_test, Y_test = (X[train_size:], Y[train_size:])"
   ]
  },
  {
   "cell_type": "code",
   "execution_count": 35,
   "metadata": {},
   "outputs": [
    {
     "data": {
      "text/plain": [
       "<cuml.LinearRegression at 0x7fcd0641e5c0>"
      ]
     },
     "execution_count": 35,
     "metadata": {},
     "output_type": "execute_result"
    }
   ],
   "source": [
    "model = LinearRegression()\n",
    "model.fit(X_train, Y_train[\"MEDV\"])"
   ]
  },
  {
   "cell_type": "code",
   "execution_count": 36,
   "metadata": {},
   "outputs": [],
   "source": [
    "Y_hat = model.predict(X_test)"
   ]
  },
  {
   "cell_type": "code",
   "execution_count": 37,
   "metadata": {},
   "outputs": [
    {
     "name": "stdout",
     "output_type": "stream",
     "text": [
      "                     \n",
      " 0 26.160110846630335\n",
      " 1   21.5403691821006\n",
      " 2 13.516103150305451\n",
      " 3 12.978224633672557\n",
      " 4 2.3916772973291565\n",
      " 5   8.52707063097034\n",
      " 6  5.382526612267309\n",
      " 7  6.106285901332168\n",
      " 8  5.897190670212712\n",
      " 9  13.74514684800808\n",
      "[116 more rows]\n"
     ]
    }
   ],
   "source": [
    "print(str(Y_hat))"
   ]
  },
  {
   "cell_type": "code",
   "execution_count": 38,
   "metadata": {},
   "outputs": [],
   "source": [
    "df = cudf.DataFrame()\n",
    "df[\"Y\"] = Y_test[\"MEDV\"]\n",
    "df[\"Y_hat\"] = Y_hat"
   ]
  },
  {
   "cell_type": "code",
   "execution_count": 43,
   "metadata": {},
   "outputs": [],
   "source": [
    "import numpy as np\n",
    "\n",
    "RMSE = np.sqrt(((df[\"Y\"] - df[\"Y_hat\"])**2).mean())"
   ]
  },
  {
   "cell_type": "code",
   "execution_count": 44,
   "metadata": {},
   "outputs": [
    {
     "data": {
      "text/plain": [
       "6.653650121923065"
      ]
     },
     "execution_count": 44,
     "metadata": {},
     "output_type": "execute_result"
    }
   ],
   "source": [
    "RMSE"
   ]
  },
  {
   "cell_type": "code",
   "execution_count": null,
   "metadata": {},
   "outputs": [],
   "source": []
  },
  {
   "cell_type": "code",
   "execution_count": null,
   "metadata": {},
   "outputs": [],
   "source": []
  },
  {
   "cell_type": "code",
   "execution_count": null,
   "metadata": {},
   "outputs": [],
   "source": []
  }
 ],
 "metadata": {
  "kernelspec": {
   "display_name": "Python [conda env:cuml]",
   "language": "python",
   "name": "conda-env-cuml-py"
  },
  "language_info": {
   "codemirror_mode": {
    "name": "ipython",
    "version": 3
   },
   "file_extension": ".py",
   "mimetype": "text/x-python",
   "name": "python",
   "nbconvert_exporter": "python",
   "pygments_lexer": "ipython3",
   "version": "3.5.6"
  }
 },
 "nbformat": 4,
 "nbformat_minor": 2
}
